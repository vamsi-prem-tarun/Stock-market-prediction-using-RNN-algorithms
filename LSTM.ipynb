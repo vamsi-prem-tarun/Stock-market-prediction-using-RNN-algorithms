{
  "nbformat": 4,
  "nbformat_minor": 0,
  "metadata": {
    "kernelspec": {
      "display_name": "Python 3",
      "language": "python",
      "name": "python3"
    },
    "language_info": {
      "codemirror_mode": {
        "name": "ipython",
        "version": 3
      },
      "file_extension": ".py",
      "mimetype": "text/x-python",
      "name": "python",
      "nbconvert_exporter": "python",
      "pygments_lexer": "ipython3",
      "version": "3.8.6"
    },
    "colab": {
      "name": "Improving-Algorithm-Based-Trading-SBIN.ipynb",
      "provenance": [],
      "toc_visible": true
    }
  },
  "cells": [
    {
      "cell_type": "code",
      "metadata": {
        "id": "jS8bEb6RXAYo"
      },
      "source": [
        ""
      ],
      "execution_count": null,
      "outputs": []
    },
    {
      "cell_type": "code",
      "metadata": {
        "_cell_guid": "b1076dfc-b9ad-4769-8c92-a6c4dae69d19",
        "_uuid": "8f2839f25d086af736a60e9eeb907d3b93b6e0e5",
        "id": "xQ1EM0_8N1Th"
      },
      "source": [
        "import numpy as np\n",
        "import pandas as pd \n",
        "\n",
        "# Visualisation\n",
        "import matplotlib.pyplot as plt\n",
        "\n",
        "from datetime import datetime\n",
        "\n",
        "# Scaling\n",
        "from sklearn.preprocessing import MinMaxScaler\n",
        "\n",
        "# Deep Learning using Keras\n",
        "from tensorflow.keras.models import Sequential, load_model\n",
        "from tensorflow.keras.layers import LSTM, Dense, Dropout\n",
        "from tensorflow.keras.optimizers import Adam\n",
        "from tensorflow.keras.callbacks import ModelCheckpoint, TensorBoard\n",
        "\n",
        "# Model insights\n",
        "import tensorboard\n",
        "\n",
        "# Clear any logs from previous runs\n",
        "!rm -rf ./logs/"
      ],
      "execution_count": 2,
      "outputs": []
    },
    {
      "cell_type": "markdown",
      "metadata": {
        "id": "2jE43CPmN1Ti"
      },
      "source": [
        "## Loading data from CSV file to DataFrame"
      ]
    },
    {
      "cell_type": "code",
      "metadata": {
        "_cell_guid": "79c7e3d0-c299-4dcb-8224-4455121ee9b0",
        "_uuid": "d629ff2d2480ee46fbb7e2d37f6b5fab8052498a",
        "id": "wm6-i6zWN1Ti"
      },
      "source": [
        "df=pd.read_csv('/content/NSE-Tata-Global-Beverages-Limited.csv',date_parser=True)"
      ],
      "execution_count": 3,
      "outputs": []
    },
    {
      "cell_type": "code",
      "metadata": {
        "colab": {
          "base_uri": "https://localhost:8080/"
        },
        "id": "iiY2p3BuN1Ti",
        "outputId": "ef4d95e7-8800-441c-c1e0-21914b2940c0"
      },
      "source": [
        "df.shape"
      ],
      "execution_count": 4,
      "outputs": [
        {
          "output_type": "execute_result",
          "data": {
            "text/plain": [
              "(1235, 8)"
            ]
          },
          "metadata": {
            "tags": []
          },
          "execution_count": 4
        }
      ]
    },
    {
      "cell_type": "code",
      "metadata": {
        "colab": {
          "base_uri": "https://localhost:8080/",
          "height": 204
        },
        "id": "cEvqsYjyN1Tj",
        "outputId": "842f8de1-7dfa-4bb4-e5f0-f6b961fd072c"
      },
      "source": [
        "df.head()"
      ],
      "execution_count": 5,
      "outputs": [
        {
          "output_type": "execute_result",
          "data": {
            "text/html": [
              "<div>\n",
              "<style scoped>\n",
              "    .dataframe tbody tr th:only-of-type {\n",
              "        vertical-align: middle;\n",
              "    }\n",
              "\n",
              "    .dataframe tbody tr th {\n",
              "        vertical-align: top;\n",
              "    }\n",
              "\n",
              "    .dataframe thead th {\n",
              "        text-align: right;\n",
              "    }\n",
              "</style>\n",
              "<table border=\"1\" class=\"dataframe\">\n",
              "  <thead>\n",
              "    <tr style=\"text-align: right;\">\n",
              "      <th></th>\n",
              "      <th>Date</th>\n",
              "      <th>Open</th>\n",
              "      <th>High</th>\n",
              "      <th>Low</th>\n",
              "      <th>Last</th>\n",
              "      <th>Close</th>\n",
              "      <th>Total Trade Quantity</th>\n",
              "      <th>Turnover (Lacs)</th>\n",
              "    </tr>\n",
              "  </thead>\n",
              "  <tbody>\n",
              "    <tr>\n",
              "      <th>0</th>\n",
              "      <td>2018-10-08</td>\n",
              "      <td>208.00</td>\n",
              "      <td>222.25</td>\n",
              "      <td>206.85</td>\n",
              "      <td>216.00</td>\n",
              "      <td>215.15</td>\n",
              "      <td>4642146.0</td>\n",
              "      <td>10062.83</td>\n",
              "    </tr>\n",
              "    <tr>\n",
              "      <th>1</th>\n",
              "      <td>2018-10-05</td>\n",
              "      <td>217.00</td>\n",
              "      <td>218.60</td>\n",
              "      <td>205.90</td>\n",
              "      <td>210.25</td>\n",
              "      <td>209.20</td>\n",
              "      <td>3519515.0</td>\n",
              "      <td>7407.06</td>\n",
              "    </tr>\n",
              "    <tr>\n",
              "      <th>2</th>\n",
              "      <td>2018-10-04</td>\n",
              "      <td>223.50</td>\n",
              "      <td>227.80</td>\n",
              "      <td>216.15</td>\n",
              "      <td>217.25</td>\n",
              "      <td>218.20</td>\n",
              "      <td>1728786.0</td>\n",
              "      <td>3815.79</td>\n",
              "    </tr>\n",
              "    <tr>\n",
              "      <th>3</th>\n",
              "      <td>2018-10-03</td>\n",
              "      <td>230.00</td>\n",
              "      <td>237.50</td>\n",
              "      <td>225.75</td>\n",
              "      <td>226.45</td>\n",
              "      <td>227.60</td>\n",
              "      <td>1708590.0</td>\n",
              "      <td>3960.27</td>\n",
              "    </tr>\n",
              "    <tr>\n",
              "      <th>4</th>\n",
              "      <td>2018-10-01</td>\n",
              "      <td>234.55</td>\n",
              "      <td>234.60</td>\n",
              "      <td>221.05</td>\n",
              "      <td>230.30</td>\n",
              "      <td>230.90</td>\n",
              "      <td>1534749.0</td>\n",
              "      <td>3486.05</td>\n",
              "    </tr>\n",
              "  </tbody>\n",
              "</table>\n",
              "</div>"
            ],
            "text/plain": [
              "         Date    Open    High  ...   Close  Total Trade Quantity  Turnover (Lacs)\n",
              "0  2018-10-08  208.00  222.25  ...  215.15             4642146.0         10062.83\n",
              "1  2018-10-05  217.00  218.60  ...  209.20             3519515.0          7407.06\n",
              "2  2018-10-04  223.50  227.80  ...  218.20             1728786.0          3815.79\n",
              "3  2018-10-03  230.00  237.50  ...  227.60             1708590.0          3960.27\n",
              "4  2018-10-01  234.55  234.60  ...  230.90             1534749.0          3486.05\n",
              "\n",
              "[5 rows x 8 columns]"
            ]
          },
          "metadata": {
            "tags": []
          },
          "execution_count": 5
        }
      ]
    },
    {
      "cell_type": "code",
      "metadata": {
        "scrolled": true,
        "colab": {
          "base_uri": "https://localhost:8080/",
          "height": 204
        },
        "id": "lKDdk9-DN1Tk",
        "outputId": "ec5a7ee4-ac46-40e4-b9cb-5b5dd87292af"
      },
      "source": [
        "df.tail()"
      ],
      "execution_count": 6,
      "outputs": [
        {
          "output_type": "execute_result",
          "data": {
            "text/html": [
              "<div>\n",
              "<style scoped>\n",
              "    .dataframe tbody tr th:only-of-type {\n",
              "        vertical-align: middle;\n",
              "    }\n",
              "\n",
              "    .dataframe tbody tr th {\n",
              "        vertical-align: top;\n",
              "    }\n",
              "\n",
              "    .dataframe thead th {\n",
              "        text-align: right;\n",
              "    }\n",
              "</style>\n",
              "<table border=\"1\" class=\"dataframe\">\n",
              "  <thead>\n",
              "    <tr style=\"text-align: right;\">\n",
              "      <th></th>\n",
              "      <th>Date</th>\n",
              "      <th>Open</th>\n",
              "      <th>High</th>\n",
              "      <th>Low</th>\n",
              "      <th>Last</th>\n",
              "      <th>Close</th>\n",
              "      <th>Total Trade Quantity</th>\n",
              "      <th>Turnover (Lacs)</th>\n",
              "    </tr>\n",
              "  </thead>\n",
              "  <tbody>\n",
              "    <tr>\n",
              "      <th>1230</th>\n",
              "      <td>2013-10-14</td>\n",
              "      <td>160.85</td>\n",
              "      <td>161.45</td>\n",
              "      <td>157.70</td>\n",
              "      <td>159.3</td>\n",
              "      <td>159.45</td>\n",
              "      <td>1281419.0</td>\n",
              "      <td>2039.09</td>\n",
              "    </tr>\n",
              "    <tr>\n",
              "      <th>1231</th>\n",
              "      <td>2013-10-11</td>\n",
              "      <td>161.15</td>\n",
              "      <td>163.45</td>\n",
              "      <td>159.00</td>\n",
              "      <td>159.8</td>\n",
              "      <td>160.05</td>\n",
              "      <td>1880046.0</td>\n",
              "      <td>3030.76</td>\n",
              "    </tr>\n",
              "    <tr>\n",
              "      <th>1232</th>\n",
              "      <td>2013-10-10</td>\n",
              "      <td>156.00</td>\n",
              "      <td>160.80</td>\n",
              "      <td>155.85</td>\n",
              "      <td>160.3</td>\n",
              "      <td>160.15</td>\n",
              "      <td>3124853.0</td>\n",
              "      <td>4978.80</td>\n",
              "    </tr>\n",
              "    <tr>\n",
              "      <th>1233</th>\n",
              "      <td>2013-10-09</td>\n",
              "      <td>155.70</td>\n",
              "      <td>158.20</td>\n",
              "      <td>154.15</td>\n",
              "      <td>155.3</td>\n",
              "      <td>155.55</td>\n",
              "      <td>2049580.0</td>\n",
              "      <td>3204.49</td>\n",
              "    </tr>\n",
              "    <tr>\n",
              "      <th>1234</th>\n",
              "      <td>2013-10-08</td>\n",
              "      <td>157.00</td>\n",
              "      <td>157.80</td>\n",
              "      <td>155.20</td>\n",
              "      <td>155.8</td>\n",
              "      <td>155.80</td>\n",
              "      <td>1720413.0</td>\n",
              "      <td>2688.94</td>\n",
              "    </tr>\n",
              "  </tbody>\n",
              "</table>\n",
              "</div>"
            ],
            "text/plain": [
              "            Date    Open    High  ...   Close  Total Trade Quantity  Turnover (Lacs)\n",
              "1230  2013-10-14  160.85  161.45  ...  159.45             1281419.0          2039.09\n",
              "1231  2013-10-11  161.15  163.45  ...  160.05             1880046.0          3030.76\n",
              "1232  2013-10-10  156.00  160.80  ...  160.15             3124853.0          4978.80\n",
              "1233  2013-10-09  155.70  158.20  ...  155.55             2049580.0          3204.49\n",
              "1234  2013-10-08  157.00  157.80  ...  155.80             1720413.0          2688.94\n",
              "\n",
              "[5 rows x 8 columns]"
            ]
          },
          "metadata": {
            "tags": []
          },
          "execution_count": 6
        }
      ]
    },
    {
      "cell_type": "markdown",
      "metadata": {
        "id": "Ae6GNjvjN1Tk"
      },
      "source": [
        "## Splitting data into Train and Test\n",
        "As this is a sequential dataset we are splitting by date and not randomly"
      ]
    },
    {
      "cell_type": "code",
      "metadata": {
        "id": "IcFbbdfXN1Tk"
      },
      "source": [
        "train=df[df['Date']<'2017-01-01']\n",
        "test=df[df['Date']>='2017-01-01']"
      ],
      "execution_count": 7,
      "outputs": []
    },
    {
      "cell_type": "markdown",
      "metadata": {
        "id": "wCr0ykCRN1Tl"
      },
      "source": [
        "## Storing only required columns"
      ]
    },
    {
      "cell_type": "code",
      "metadata": {
        "id": "b3WVjPAMN1Tl"
      },
      "source": [
        "cols=['Open','High','Low','Close','Total Trade Quantity']\n",
        "train=train[cols]\n",
        "test=test[cols]"
      ],
      "execution_count": 9,
      "outputs": []
    },
    {
      "cell_type": "markdown",
      "metadata": {
        "id": "8LB3fcbgN1Tl"
      },
      "source": [
        "## Scaling the data using Min-Max Scaler"
      ]
    },
    {
      "cell_type": "code",
      "metadata": {
        "colab": {
          "base_uri": "https://localhost:8080/"
        },
        "id": "tx5FTKNvN1Tl",
        "outputId": "78be6e7a-9982-4159-870f-5edc71a7d019"
      },
      "source": [
        "scaler=MinMaxScaler()\n",
        "\n",
        "nTrain=scaler.fit_transform(train)\n",
        "nTrain"
      ],
      "execution_count": 10,
      "outputs": [
        {
          "output_type": "execute_result",
          "data": {
            "text/plain": [
              "array([[0.24709898, 0.25775327, 0.28864569, 0.26800554, 0.0540708 ],\n",
              "       [0.22662116, 0.24190214, 0.26812585, 0.25554017, 0.05454569],\n",
              "       [0.22116041, 0.2398346 , 0.2626539 , 0.23476454, 0.04519652],\n",
              "       ...,\n",
              "       [0.72354949, 0.77463818, 0.76402189, 0.79639889, 0.17829759],\n",
              "       [0.71945392, 0.73880083, 0.74076607, 0.73268698, 0.1149127 ],\n",
              "       [0.73720137, 0.73328739, 0.75512996, 0.73614958, 0.09550905]])"
            ]
          },
          "metadata": {
            "tags": []
          },
          "execution_count": 10
        }
      ]
    },
    {
      "cell_type": "markdown",
      "metadata": {
        "id": "MMGLAVN4N1Tm"
      },
      "source": [
        "## Storing data in a Numpy array"
      ]
    },
    {
      "cell_type": "code",
      "metadata": {
        "colab": {
          "base_uri": "https://localhost:8080/"
        },
        "id": "HjMycI2PN1Tm",
        "outputId": "144608fe-60fc-4535-c8a4-7da068993989"
      },
      "source": [
        "xTrain=[]\n",
        "yTrain=[]\n",
        "window=60\n",
        "\n",
        "for i in range(window,nTrain.shape[0]):\n",
        "    xTrain.append(nTrain[i-window:i])\n",
        "    yTrain.append(nTrain[i,0])\n",
        "\n",
        "xTrain,yTrain=np.array(xTrain),np.array(yTrain)\n",
        "\n",
        "xTrain.shape,yTrain.shape"
      ],
      "execution_count": 38,
      "outputs": [
        {
          "output_type": "execute_result",
          "data": {
            "text/plain": [
              "((737, 60, 5), (737,))"
            ]
          },
          "metadata": {
            "tags": []
          },
          "execution_count": 38
        }
      ]
    },
    {
      "cell_type": "markdown",
      "metadata": {
        "id": "ydj-jOsPN1Tm"
      },
      "source": [
        "## Model Definition"
      ]
    },
    {
      "cell_type": "code",
      "metadata": {
        "id": "B4JymTwoN1Tm"
      },
      "source": [
        "model=Sequential()\n",
        "\n",
        "model.add(LSTM(units=50, activation='tanh', return_sequences=True,recurrent_activation = \"sigmoid\", input_shape=(window,5)))\n",
        "model.add(Dropout(0.2))\n",
        "\n",
        "model.add(LSTM(units=60, activation='tanh', return_sequences=True, recurrent_activation = \"sigmoid\"))\n",
        "model.add(Dropout(0.3))\n",
        "\n",
        "model.add(LSTM(units=80, activation='tanh', return_sequences=True, recurrent_activation = \"sigmoid\"))\n",
        "model.add(Dropout(0.4))\n",
        "\n",
        "model.add(LSTM(units=120, activation='tanh', recurrent_activation = \"sigmoid\"))\n",
        "model.add(Dropout(0.5))\n",
        "\n",
        "model.add(Dense(units=1))"
      ],
      "execution_count": 12,
      "outputs": []
    },
    {
      "cell_type": "code",
      "metadata": {
        "colab": {
          "base_uri": "https://localhost:8080/"
        },
        "id": "pXPJUq_mN1Tn",
        "outputId": "e3bfc89d-cf99-4017-c93e-5321004ca1e0"
      },
      "source": [
        "model.summary()"
      ],
      "execution_count": 13,
      "outputs": [
        {
          "output_type": "stream",
          "text": [
            "Model: \"sequential\"\n",
            "_________________________________________________________________\n",
            "Layer (type)                 Output Shape              Param #   \n",
            "=================================================================\n",
            "lstm (LSTM)                  (None, 60, 50)            11200     \n",
            "_________________________________________________________________\n",
            "dropout (Dropout)            (None, 60, 50)            0         \n",
            "_________________________________________________________________\n",
            "lstm_1 (LSTM)                (None, 60, 60)            26640     \n",
            "_________________________________________________________________\n",
            "dropout_1 (Dropout)          (None, 60, 60)            0         \n",
            "_________________________________________________________________\n",
            "lstm_2 (LSTM)                (None, 60, 80)            45120     \n",
            "_________________________________________________________________\n",
            "dropout_2 (Dropout)          (None, 60, 80)            0         \n",
            "_________________________________________________________________\n",
            "lstm_3 (LSTM)                (None, 120)               96480     \n",
            "_________________________________________________________________\n",
            "dropout_3 (Dropout)          (None, 120)               0         \n",
            "_________________________________________________________________\n",
            "dense (Dense)                (None, 1)                 121       \n",
            "=================================================================\n",
            "Total params: 179,561\n",
            "Trainable params: 179,561\n",
            "Non-trainable params: 0\n",
            "_________________________________________________________________\n"
          ],
          "name": "stdout"
        }
      ]
    },
    {
      "cell_type": "code",
      "metadata": {
        "id": "1PdlQeNLN1Tn"
      },
      "source": [
        "# Checkpoint to store weights for least obtained loss \n",
        "checkpoint = ModelCheckpoint('best.h5', monitor='loss', verbose=1,save_best_only=True, save_freq=\"epoch\")\n",
        "\n",
        "# Define the Keras TensorBoard callback.\n",
        "logdir=\"logs/fit/\" + datetime.now().strftime(\"%Y%m%d-%H%M%S\")\n",
        "tensorboard_callback = TensorBoard(log_dir=logdir)\n",
        "\n",
        "# Optimizer: Adam lr=0.001\n",
        "# Loss Function: Mean Squared Error\n",
        "model.compile(optimizer=Adam(), loss='mean_squared_error')"
      ],
      "execution_count": 14,
      "outputs": []
    },
    {
      "cell_type": "markdown",
      "metadata": {
        "id": "jxC8de6vN1Tn"
      },
      "source": [
        "## Model Training"
      ]
    },
    {
      "cell_type": "code",
      "metadata": {
        "scrolled": true,
        "colab": {
          "base_uri": "https://localhost:8080/"
        },
        "id": "qcteiH6tN1To",
        "outputId": "5c1f8eac-96f3-4892-df72-ab3371c84c81"
      },
      "source": [
        "History = model.fit(xTrain,yTrain,epochs=100,callbacks=[checkpoint,tensorboard_callback])"
      ],
      "execution_count": 15,
      "outputs": [
        {
          "output_type": "stream",
          "text": [
            "Epoch 1/100\n",
            " 1/24 [>.............................] - ETA: 0s - loss: 0.3563WARNING:tensorflow:From /usr/local/lib/python3.6/dist-packages/tensorflow/python/ops/summary_ops_v2.py:1277: stop (from tensorflow.python.eager.profiler) is deprecated and will be removed after 2020-07-01.\n",
            "Instructions for updating:\n",
            "use `tf.profiler.experimental.stop` instead.\n",
            " 2/24 [=>............................] - ETA: 7s - loss: 0.2819WARNING:tensorflow:Callbacks method `on_train_batch_end` is slow compared to the batch time (batch time: 0.1736s vs `on_train_batch_end` time: 0.4752s). Check your callbacks.\n",
            "24/24 [==============================] - ETA: 0s - loss: 0.0523\n",
            "Epoch 00001: loss improved from inf to 0.05225, saving model to best.h5\n",
            "24/24 [==============================] - 4s 168ms/step - loss: 0.0523\n",
            "Epoch 2/100\n",
            "24/24 [==============================] - ETA: 0s - loss: 0.0173\n",
            "Epoch 00002: loss improved from 0.05225 to 0.01733, saving model to best.h5\n",
            "24/24 [==============================] - 4s 157ms/step - loss: 0.0173\n",
            "Epoch 3/100\n",
            "24/24 [==============================] - ETA: 0s - loss: 0.0157\n",
            "Epoch 00003: loss improved from 0.01733 to 0.01574, saving model to best.h5\n",
            "24/24 [==============================] - 4s 159ms/step - loss: 0.0157\n",
            "Epoch 4/100\n",
            "24/24 [==============================] - ETA: 0s - loss: 0.0145\n",
            "Epoch 00004: loss improved from 0.01574 to 0.01451, saving model to best.h5\n",
            "24/24 [==============================] - 4s 157ms/step - loss: 0.0145\n",
            "Epoch 5/100\n",
            "24/24 [==============================] - ETA: 0s - loss: 0.0152\n",
            "Epoch 00005: loss did not improve from 0.01451\n",
            "24/24 [==============================] - 4s 160ms/step - loss: 0.0152\n",
            "Epoch 6/100\n",
            "24/24 [==============================] - ETA: 0s - loss: 0.0180\n",
            "Epoch 00006: loss did not improve from 0.01451\n",
            "24/24 [==============================] - 4s 157ms/step - loss: 0.0180\n",
            "Epoch 7/100\n",
            "24/24 [==============================] - ETA: 0s - loss: 0.0183\n",
            "Epoch 00007: loss did not improve from 0.01451\n",
            "24/24 [==============================] - 4s 156ms/step - loss: 0.0183\n",
            "Epoch 8/100\n",
            "24/24 [==============================] - ETA: 0s - loss: 0.0152\n",
            "Epoch 00008: loss did not improve from 0.01451\n",
            "24/24 [==============================] - 4s 161ms/step - loss: 0.0152\n",
            "Epoch 9/100\n",
            "24/24 [==============================] - ETA: 0s - loss: 0.0126\n",
            "Epoch 00009: loss improved from 0.01451 to 0.01257, saving model to best.h5\n",
            "24/24 [==============================] - 4s 159ms/step - loss: 0.0126\n",
            "Epoch 10/100\n",
            "24/24 [==============================] - ETA: 0s - loss: 0.0125\n",
            "Epoch 00010: loss improved from 0.01257 to 0.01252, saving model to best.h5\n",
            "24/24 [==============================] - 4s 155ms/step - loss: 0.0125\n",
            "Epoch 11/100\n",
            "24/24 [==============================] - ETA: 0s - loss: 0.0121\n",
            "Epoch 00011: loss improved from 0.01252 to 0.01205, saving model to best.h5\n",
            "24/24 [==============================] - 4s 154ms/step - loss: 0.0121\n",
            "Epoch 12/100\n",
            "24/24 [==============================] - ETA: 0s - loss: 0.0116\n",
            "Epoch 00012: loss improved from 0.01205 to 0.01163, saving model to best.h5\n",
            "24/24 [==============================] - 4s 157ms/step - loss: 0.0116\n",
            "Epoch 13/100\n",
            "24/24 [==============================] - ETA: 0s - loss: 0.0107\n",
            "Epoch 00013: loss improved from 0.01163 to 0.01072, saving model to best.h5\n",
            "24/24 [==============================] - 4s 160ms/step - loss: 0.0107\n",
            "Epoch 14/100\n",
            "24/24 [==============================] - ETA: 0s - loss: 0.0119\n",
            "Epoch 00014: loss did not improve from 0.01072\n",
            "24/24 [==============================] - 4s 153ms/step - loss: 0.0119\n",
            "Epoch 15/100\n",
            "24/24 [==============================] - ETA: 0s - loss: 0.0103\n",
            "Epoch 00015: loss improved from 0.01072 to 0.01035, saving model to best.h5\n",
            "24/24 [==============================] - 4s 161ms/step - loss: 0.0103\n",
            "Epoch 16/100\n",
            "24/24 [==============================] - ETA: 0s - loss: 0.0113\n",
            "Epoch 00016: loss did not improve from 0.01035\n",
            "24/24 [==============================] - 4s 163ms/step - loss: 0.0113\n",
            "Epoch 17/100\n",
            "24/24 [==============================] - ETA: 0s - loss: 0.0092\n",
            "Epoch 00017: loss improved from 0.01035 to 0.00919, saving model to best.h5\n",
            "24/24 [==============================] - 4s 157ms/step - loss: 0.0092\n",
            "Epoch 18/100\n",
            "24/24 [==============================] - ETA: 0s - loss: 0.0116\n",
            "Epoch 00018: loss did not improve from 0.00919\n",
            "24/24 [==============================] - 4s 155ms/step - loss: 0.0116\n",
            "Epoch 19/100\n",
            "24/24 [==============================] - ETA: 0s - loss: 0.0104\n",
            "Epoch 00019: loss did not improve from 0.00919\n",
            "24/24 [==============================] - 4s 152ms/step - loss: 0.0104\n",
            "Epoch 20/100\n",
            "24/24 [==============================] - ETA: 0s - loss: 0.0093\n",
            "Epoch 00020: loss did not improve from 0.00919\n",
            "24/24 [==============================] - 4s 159ms/step - loss: 0.0093\n",
            "Epoch 21/100\n",
            "24/24 [==============================] - ETA: 0s - loss: 0.0086\n",
            "Epoch 00021: loss improved from 0.00919 to 0.00865, saving model to best.h5\n",
            "24/24 [==============================] - 4s 162ms/step - loss: 0.0086\n",
            "Epoch 22/100\n",
            "24/24 [==============================] - ETA: 0s - loss: 0.0090\n",
            "Epoch 00022: loss did not improve from 0.00865\n",
            "24/24 [==============================] - 4s 152ms/step - loss: 0.0090\n",
            "Epoch 23/100\n",
            "24/24 [==============================] - ETA: 0s - loss: 0.0087\n",
            "Epoch 00023: loss did not improve from 0.00865\n",
            "24/24 [==============================] - 4s 157ms/step - loss: 0.0087\n",
            "Epoch 24/100\n",
            "24/24 [==============================] - ETA: 0s - loss: 0.0087\n",
            "Epoch 00024: loss did not improve from 0.00865\n",
            "24/24 [==============================] - 4s 158ms/step - loss: 0.0087\n",
            "Epoch 25/100\n",
            "24/24 [==============================] - ETA: 0s - loss: 0.0081\n",
            "Epoch 00025: loss improved from 0.00865 to 0.00808, saving model to best.h5\n",
            "24/24 [==============================] - 4s 158ms/step - loss: 0.0081\n",
            "Epoch 26/100\n",
            "24/24 [==============================] - ETA: 0s - loss: 0.0078\n",
            "Epoch 00026: loss improved from 0.00808 to 0.00778, saving model to best.h5\n",
            "24/24 [==============================] - 4s 155ms/step - loss: 0.0078\n",
            "Epoch 27/100\n",
            "24/24 [==============================] - ETA: 0s - loss: 0.0080\n",
            "Epoch 00027: loss did not improve from 0.00778\n",
            "24/24 [==============================] - 4s 159ms/step - loss: 0.0080\n",
            "Epoch 28/100\n",
            "24/24 [==============================] - ETA: 0s - loss: 0.0107\n",
            "Epoch 00028: loss did not improve from 0.00778\n",
            "24/24 [==============================] - 4s 159ms/step - loss: 0.0107\n",
            "Epoch 29/100\n",
            "24/24 [==============================] - ETA: 0s - loss: 0.0164\n",
            "Epoch 00029: loss did not improve from 0.00778\n",
            "24/24 [==============================] - 4s 159ms/step - loss: 0.0164\n",
            "Epoch 30/100\n",
            "24/24 [==============================] - ETA: 0s - loss: 0.0095\n",
            "Epoch 00030: loss did not improve from 0.00778\n",
            "24/24 [==============================] - 4s 161ms/step - loss: 0.0095\n",
            "Epoch 31/100\n",
            "24/24 [==============================] - ETA: 0s - loss: 0.0075\n",
            "Epoch 00031: loss improved from 0.00778 to 0.00753, saving model to best.h5\n",
            "24/24 [==============================] - 4s 157ms/step - loss: 0.0075\n",
            "Epoch 32/100\n",
            "24/24 [==============================] - ETA: 0s - loss: 0.0085\n",
            "Epoch 00032: loss did not improve from 0.00753\n",
            "24/24 [==============================] - 4s 158ms/step - loss: 0.0085\n",
            "Epoch 33/100\n",
            "24/24 [==============================] - ETA: 0s - loss: 0.0073\n",
            "Epoch 00033: loss improved from 0.00753 to 0.00727, saving model to best.h5\n",
            "24/24 [==============================] - 4s 161ms/step - loss: 0.0073\n",
            "Epoch 34/100\n",
            "24/24 [==============================] - ETA: 0s - loss: 0.0066\n",
            "Epoch 00034: loss improved from 0.00727 to 0.00657, saving model to best.h5\n",
            "24/24 [==============================] - 4s 160ms/step - loss: 0.0066\n",
            "Epoch 35/100\n",
            "24/24 [==============================] - ETA: 0s - loss: 0.0067\n",
            "Epoch 00035: loss did not improve from 0.00657\n",
            "24/24 [==============================] - 4s 158ms/step - loss: 0.0067\n",
            "Epoch 36/100\n",
            "24/24 [==============================] - ETA: 0s - loss: 0.0069\n",
            "Epoch 00036: loss did not improve from 0.00657\n",
            "24/24 [==============================] - 4s 157ms/step - loss: 0.0069\n",
            "Epoch 37/100\n",
            "24/24 [==============================] - ETA: 0s - loss: 0.0061\n",
            "Epoch 00037: loss improved from 0.00657 to 0.00608, saving model to best.h5\n",
            "24/24 [==============================] - 4s 158ms/step - loss: 0.0061\n",
            "Epoch 38/100\n",
            "24/24 [==============================] - ETA: 0s - loss: 0.0066\n",
            "Epoch 00038: loss did not improve from 0.00608\n",
            "24/24 [==============================] - 4s 160ms/step - loss: 0.0066\n",
            "Epoch 39/100\n",
            "24/24 [==============================] - ETA: 0s - loss: 0.0064\n",
            "Epoch 00039: loss did not improve from 0.00608\n",
            "24/24 [==============================] - 4s 159ms/step - loss: 0.0064\n",
            "Epoch 40/100\n",
            "24/24 [==============================] - ETA: 0s - loss: 0.0067\n",
            "Epoch 00040: loss did not improve from 0.00608\n",
            "24/24 [==============================] - 4s 158ms/step - loss: 0.0067\n",
            "Epoch 41/100\n",
            "24/24 [==============================] - ETA: 0s - loss: 0.0072\n",
            "Epoch 00041: loss did not improve from 0.00608\n",
            "24/24 [==============================] - 4s 155ms/step - loss: 0.0072\n",
            "Epoch 42/100\n",
            "24/24 [==============================] - ETA: 0s - loss: 0.0062\n",
            "Epoch 00042: loss did not improve from 0.00608\n",
            "24/24 [==============================] - 4s 159ms/step - loss: 0.0062\n",
            "Epoch 43/100\n",
            "24/24 [==============================] - ETA: 0s - loss: 0.0061\n",
            "Epoch 00043: loss did not improve from 0.00608\n",
            "24/24 [==============================] - 4s 154ms/step - loss: 0.0061\n",
            "Epoch 44/100\n",
            "24/24 [==============================] - ETA: 0s - loss: 0.0062\n",
            "Epoch 00044: loss did not improve from 0.00608\n",
            "24/24 [==============================] - 4s 161ms/step - loss: 0.0062\n",
            "Epoch 45/100\n",
            "24/24 [==============================] - ETA: 0s - loss: 0.0059\n",
            "Epoch 00045: loss improved from 0.00608 to 0.00586, saving model to best.h5\n",
            "24/24 [==============================] - 4s 154ms/step - loss: 0.0059\n",
            "Epoch 46/100\n",
            "24/24 [==============================] - ETA: 0s - loss: 0.0059\n",
            "Epoch 00046: loss did not improve from 0.00586\n",
            "24/24 [==============================] - 4s 157ms/step - loss: 0.0059\n",
            "Epoch 47/100\n",
            "24/24 [==============================] - ETA: 0s - loss: 0.0060\n",
            "Epoch 00047: loss did not improve from 0.00586\n",
            "24/24 [==============================] - 4s 167ms/step - loss: 0.0060\n",
            "Epoch 48/100\n",
            "24/24 [==============================] - ETA: 0s - loss: 0.0052\n",
            "Epoch 00048: loss improved from 0.00586 to 0.00522, saving model to best.h5\n",
            "24/24 [==============================] - 6s 230ms/step - loss: 0.0052\n",
            "Epoch 49/100\n",
            "24/24 [==============================] - ETA: 0s - loss: 0.0061\n",
            "Epoch 00049: loss did not improve from 0.00522\n",
            "24/24 [==============================] - 5s 229ms/step - loss: 0.0061\n",
            "Epoch 50/100\n",
            "24/24 [==============================] - ETA: 0s - loss: 0.0053\n",
            "Epoch 00050: loss did not improve from 0.00522\n",
            "24/24 [==============================] - 4s 166ms/step - loss: 0.0053\n",
            "Epoch 51/100\n",
            "24/24 [==============================] - ETA: 0s - loss: 0.0054\n",
            "Epoch 00051: loss did not improve from 0.00522\n",
            "24/24 [==============================] - 4s 161ms/step - loss: 0.0054\n",
            "Epoch 52/100\n",
            "24/24 [==============================] - ETA: 0s - loss: 0.0058\n",
            "Epoch 00052: loss did not improve from 0.00522\n",
            "24/24 [==============================] - 4s 161ms/step - loss: 0.0058\n",
            "Epoch 53/100\n",
            "24/24 [==============================] - ETA: 0s - loss: 0.0068\n",
            "Epoch 00053: loss did not improve from 0.00522\n",
            "24/24 [==============================] - 4s 161ms/step - loss: 0.0068\n",
            "Epoch 54/100\n",
            "24/24 [==============================] - ETA: 0s - loss: 0.0067\n",
            "Epoch 00054: loss did not improve from 0.00522\n",
            "24/24 [==============================] - 4s 154ms/step - loss: 0.0067\n",
            "Epoch 55/100\n",
            "24/24 [==============================] - ETA: 0s - loss: 0.0060\n",
            "Epoch 00055: loss did not improve from 0.00522\n",
            "24/24 [==============================] - 4s 159ms/step - loss: 0.0060\n",
            "Epoch 56/100\n",
            "24/24 [==============================] - ETA: 0s - loss: 0.0063\n",
            "Epoch 00056: loss did not improve from 0.00522\n",
            "24/24 [==============================] - 4s 167ms/step - loss: 0.0063\n",
            "Epoch 57/100\n",
            "24/24 [==============================] - ETA: 0s - loss: 0.0056\n",
            "Epoch 00057: loss did not improve from 0.00522\n",
            "24/24 [==============================] - 4s 173ms/step - loss: 0.0056\n",
            "Epoch 58/100\n",
            "24/24 [==============================] - ETA: 0s - loss: 0.0055\n",
            "Epoch 00058: loss did not improve from 0.00522\n",
            "24/24 [==============================] - 4s 165ms/step - loss: 0.0055\n",
            "Epoch 59/100\n",
            "24/24 [==============================] - ETA: 0s - loss: 0.0056\n",
            "Epoch 00059: loss did not improve from 0.00522\n",
            "24/24 [==============================] - 4s 168ms/step - loss: 0.0056\n",
            "Epoch 60/100\n",
            "24/24 [==============================] - ETA: 0s - loss: 0.0059\n",
            "Epoch 00060: loss did not improve from 0.00522\n",
            "24/24 [==============================] - 4s 163ms/step - loss: 0.0059\n",
            "Epoch 61/100\n",
            "24/24 [==============================] - ETA: 0s - loss: 0.0055\n",
            "Epoch 00061: loss did not improve from 0.00522\n",
            "24/24 [==============================] - 4s 156ms/step - loss: 0.0055\n",
            "Epoch 62/100\n",
            "24/24 [==============================] - ETA: 0s - loss: 0.0053\n",
            "Epoch 00062: loss did not improve from 0.00522\n",
            "24/24 [==============================] - 4s 157ms/step - loss: 0.0053\n",
            "Epoch 63/100\n",
            "24/24 [==============================] - ETA: 0s - loss: 0.0051\n",
            "Epoch 00063: loss improved from 0.00522 to 0.00513, saving model to best.h5\n",
            "24/24 [==============================] - 4s 159ms/step - loss: 0.0051\n",
            "Epoch 64/100\n",
            "24/24 [==============================] - ETA: 0s - loss: 0.0051\n",
            "Epoch 00064: loss improved from 0.00513 to 0.00509, saving model to best.h5\n",
            "24/24 [==============================] - 4s 158ms/step - loss: 0.0051\n",
            "Epoch 65/100\n",
            "24/24 [==============================] - ETA: 0s - loss: 0.0056\n",
            "Epoch 00065: loss did not improve from 0.00509\n",
            "24/24 [==============================] - 4s 159ms/step - loss: 0.0056\n",
            "Epoch 66/100\n",
            "24/24 [==============================] - ETA: 0s - loss: 0.0064\n",
            "Epoch 00066: loss did not improve from 0.00509\n",
            "24/24 [==============================] - 4s 163ms/step - loss: 0.0064\n",
            "Epoch 67/100\n",
            "24/24 [==============================] - ETA: 0s - loss: 0.0053\n",
            "Epoch 00067: loss did not improve from 0.00509\n",
            "24/24 [==============================] - 4s 154ms/step - loss: 0.0053\n",
            "Epoch 68/100\n",
            "24/24 [==============================] - ETA: 0s - loss: 0.0045\n",
            "Epoch 00068: loss improved from 0.00509 to 0.00447, saving model to best.h5\n",
            "24/24 [==============================] - 4s 158ms/step - loss: 0.0045\n",
            "Epoch 69/100\n",
            "24/24 [==============================] - ETA: 0s - loss: 0.0048\n",
            "Epoch 00069: loss did not improve from 0.00447\n",
            "24/24 [==============================] - 4s 158ms/step - loss: 0.0048\n",
            "Epoch 70/100\n",
            "24/24 [==============================] - ETA: 0s - loss: 0.0050\n",
            "Epoch 00070: loss did not improve from 0.00447\n",
            "24/24 [==============================] - 4s 160ms/step - loss: 0.0050\n",
            "Epoch 71/100\n",
            "24/24 [==============================] - ETA: 0s - loss: 0.0051\n",
            "Epoch 00071: loss did not improve from 0.00447\n",
            "24/24 [==============================] - 4s 158ms/step - loss: 0.0051\n",
            "Epoch 72/100\n",
            "24/24 [==============================] - ETA: 0s - loss: 0.0048\n",
            "Epoch 00072: loss did not improve from 0.00447\n",
            "24/24 [==============================] - 4s 162ms/step - loss: 0.0048\n",
            "Epoch 73/100\n",
            "24/24 [==============================] - ETA: 0s - loss: 0.0048\n",
            "Epoch 00073: loss did not improve from 0.00447\n",
            "24/24 [==============================] - 4s 159ms/step - loss: 0.0048\n",
            "Epoch 74/100\n",
            "24/24 [==============================] - ETA: 0s - loss: 0.0044\n",
            "Epoch 00074: loss improved from 0.00447 to 0.00441, saving model to best.h5\n",
            "24/24 [==============================] - 4s 162ms/step - loss: 0.0044\n",
            "Epoch 75/100\n",
            "24/24 [==============================] - ETA: 0s - loss: 0.0045\n",
            "Epoch 00075: loss did not improve from 0.00441\n",
            "24/24 [==============================] - 4s 166ms/step - loss: 0.0045\n",
            "Epoch 76/100\n",
            "24/24 [==============================] - ETA: 0s - loss: 0.0047\n",
            "Epoch 00076: loss did not improve from 0.00441\n",
            "24/24 [==============================] - 4s 166ms/step - loss: 0.0047\n",
            "Epoch 77/100\n",
            "24/24 [==============================] - ETA: 0s - loss: 0.0045\n",
            "Epoch 00077: loss did not improve from 0.00441\n",
            "24/24 [==============================] - 4s 158ms/step - loss: 0.0045\n",
            "Epoch 78/100\n",
            "24/24 [==============================] - ETA: 0s - loss: 0.0048\n",
            "Epoch 00078: loss did not improve from 0.00441\n",
            "24/24 [==============================] - 4s 158ms/step - loss: 0.0048\n",
            "Epoch 79/100\n",
            "24/24 [==============================] - ETA: 0s - loss: 0.0049\n",
            "Epoch 00079: loss did not improve from 0.00441\n",
            "24/24 [==============================] - 4s 161ms/step - loss: 0.0049\n",
            "Epoch 80/100\n",
            "24/24 [==============================] - ETA: 0s - loss: 0.0051\n",
            "Epoch 00080: loss did not improve from 0.00441\n",
            "24/24 [==============================] - 4s 159ms/step - loss: 0.0051\n",
            "Epoch 81/100\n",
            "24/24 [==============================] - ETA: 0s - loss: 0.0044\n",
            "Epoch 00081: loss improved from 0.00441 to 0.00437, saving model to best.h5\n",
            "24/24 [==============================] - 4s 156ms/step - loss: 0.0044\n",
            "Epoch 82/100\n",
            "24/24 [==============================] - ETA: 0s - loss: 0.0045\n",
            "Epoch 00082: loss did not improve from 0.00437\n",
            "24/24 [==============================] - 4s 158ms/step - loss: 0.0045\n",
            "Epoch 83/100\n",
            "24/24 [==============================] - ETA: 0s - loss: 0.0042\n",
            "Epoch 00083: loss improved from 0.00437 to 0.00420, saving model to best.h5\n",
            "24/24 [==============================] - 4s 159ms/step - loss: 0.0042\n",
            "Epoch 84/100\n",
            "24/24 [==============================] - ETA: 0s - loss: 0.0048\n",
            "Epoch 00084: loss did not improve from 0.00420\n",
            "24/24 [==============================] - 4s 156ms/step - loss: 0.0048\n",
            "Epoch 85/100\n",
            "24/24 [==============================] - ETA: 0s - loss: 0.0038\n",
            "Epoch 00085: loss improved from 0.00420 to 0.00385, saving model to best.h5\n",
            "24/24 [==============================] - 4s 161ms/step - loss: 0.0038\n",
            "Epoch 86/100\n",
            "24/24 [==============================] - ETA: 0s - loss: 0.0048\n",
            "Epoch 00086: loss did not improve from 0.00385\n",
            "24/24 [==============================] - 4s 156ms/step - loss: 0.0048\n",
            "Epoch 87/100\n",
            "24/24 [==============================] - ETA: 0s - loss: 0.0044\n",
            "Epoch 00087: loss did not improve from 0.00385\n",
            "24/24 [==============================] - 4s 156ms/step - loss: 0.0044\n",
            "Epoch 88/100\n",
            "24/24 [==============================] - ETA: 0s - loss: 0.0042\n",
            "Epoch 00088: loss did not improve from 0.00385\n",
            "24/24 [==============================] - 4s 163ms/step - loss: 0.0042\n",
            "Epoch 89/100\n",
            "24/24 [==============================] - ETA: 0s - loss: 0.0042\n",
            "Epoch 00089: loss did not improve from 0.00385\n",
            "24/24 [==============================] - 4s 156ms/step - loss: 0.0042\n",
            "Epoch 90/100\n",
            "24/24 [==============================] - ETA: 0s - loss: 0.0043\n",
            "Epoch 00090: loss did not improve from 0.00385\n",
            "24/24 [==============================] - 4s 157ms/step - loss: 0.0043\n",
            "Epoch 91/100\n",
            "24/24 [==============================] - ETA: 0s - loss: 0.0038\n",
            "Epoch 00091: loss improved from 0.00385 to 0.00384, saving model to best.h5\n",
            "24/24 [==============================] - 4s 163ms/step - loss: 0.0038\n",
            "Epoch 92/100\n",
            "24/24 [==============================] - ETA: 0s - loss: 0.0058\n",
            "Epoch 00092: loss did not improve from 0.00384\n",
            "24/24 [==============================] - 4s 159ms/step - loss: 0.0058\n",
            "Epoch 93/100\n",
            "24/24 [==============================] - ETA: 0s - loss: 0.0043\n",
            "Epoch 00093: loss did not improve from 0.00384\n",
            "24/24 [==============================] - 4s 160ms/step - loss: 0.0043\n",
            "Epoch 94/100\n",
            "24/24 [==============================] - ETA: 0s - loss: 0.0039\n",
            "Epoch 00094: loss did not improve from 0.00384\n",
            "24/24 [==============================] - 4s 156ms/step - loss: 0.0039\n",
            "Epoch 95/100\n",
            "24/24 [==============================] - ETA: 0s - loss: 0.0037\n",
            "Epoch 00095: loss improved from 0.00384 to 0.00374, saving model to best.h5\n",
            "24/24 [==============================] - 4s 157ms/step - loss: 0.0037\n",
            "Epoch 96/100\n",
            "24/24 [==============================] - ETA: 0s - loss: 0.0039\n",
            "Epoch 00096: loss did not improve from 0.00374\n",
            "24/24 [==============================] - 4s 155ms/step - loss: 0.0039\n",
            "Epoch 97/100\n",
            "24/24 [==============================] - ETA: 0s - loss: 0.0038\n",
            "Epoch 00097: loss did not improve from 0.00374\n",
            "24/24 [==============================] - 4s 162ms/step - loss: 0.0038\n",
            "Epoch 98/100\n",
            "24/24 [==============================] - ETA: 0s - loss: 0.0037\n",
            "Epoch 00098: loss improved from 0.00374 to 0.00367, saving model to best.h5\n",
            "24/24 [==============================] - 4s 162ms/step - loss: 0.0037\n",
            "Epoch 99/100\n",
            "24/24 [==============================] - ETA: 0s - loss: 0.0041\n",
            "Epoch 00099: loss did not improve from 0.00367\n",
            "24/24 [==============================] - 4s 161ms/step - loss: 0.0041\n",
            "Epoch 100/100\n",
            "24/24 [==============================] - ETA: 0s - loss: 0.0036\n",
            "Epoch 00100: loss improved from 0.00367 to 0.00363, saving model to best.h5\n",
            "24/24 [==============================] - 4s 158ms/step - loss: 0.0036\n"
          ],
          "name": "stdout"
        }
      ]
    },
    {
      "cell_type": "markdown",
      "metadata": {
        "id": "ZUC_zo4xN1To"
      },
      "source": [
        "## Loss function vs Epochs"
      ]
    },
    {
      "cell_type": "code",
      "metadata": {
        "colab": {
          "base_uri": "https://localhost:8080/",
          "height": 295
        },
        "id": "xHPDydE6N1To",
        "outputId": "c3c3c33c-ae38-451b-f859-d0e9513a5d8d"
      },
      "source": [
        "plt.plot(History.history['loss'],color=\"r\",label=\"Training Accuracy\")\n",
        "plt.ylabel(\"Loss\")\n",
        "plt.xlabel(\"Epochs\")\n",
        "plt.title(\"Loss Function\")\n",
        "plt.show()"
      ],
      "execution_count": 19,
      "outputs": [
        {
          "output_type": "display_data",
          "data": {
            "image/png": "[encoded data removed]",
            "text/plain": [
              "<Figure size 432x288 with 1 Axes>"
            ]
          },
          "metadata": {
            "tags": [],
            "needs_background": "light"
          }
        }
      ]
    },
    {
      "cell_type": "markdown",
      "metadata": {
        "id": "AicuTCSGN1To"
      },
      "source": [
        "## Restoring the best weights"
      ]
    },
    {
      "cell_type": "code",
      "metadata": {
        "id": "d3X1N23NN1To"
      },
      "source": [
        "model = load_model('best.h5')"
      ],
      "execution_count": 20,
      "outputs": []
    },
    {
      "cell_type": "code",
      "metadata": {
        "id": "B_FuKagrN1Tp"
      },
      "source": [
        "last_window=train.tail(window)\n",
        "testSet=last_window.append(test,ignore_index=True)\n",
        "nTest=scaler.transform(testSet)"
      ],
      "execution_count": 21,
      "outputs": []
    },
    {
      "cell_type": "code",
      "metadata": {
        "colab": {
          "base_uri": "https://localhost:8080/"
        },
        "id": "oXKjYDKWN1Tp",
        "outputId": "8ad4fe45-2813-4b9b-b0ae-a18ce5630dbb"
      },
      "source": [
        "xTest=[]\n",
        "yTest=[]\n",
        "\n",
        "for i in range(window,nTest.shape[0]):\n",
        "    xTest.append(nTest[i-window:i])\n",
        "    yTest.append(nTest[i,0])\n",
        "\n",
        "xTest,yTest=np.array(xTest),np.array(yTest)\n",
        "xTest.shape,yTest.shape"
      ],
      "execution_count": 22,
      "outputs": [
        {
          "output_type": "execute_result",
          "data": {
            "text/plain": [
              "((438, 60, 5), (438,))"
            ]
          },
          "metadata": {
            "tags": []
          },
          "execution_count": 22
        }
      ]
    },
    {
      "cell_type": "code",
      "metadata": {
        "id": "J2J4T-lDN1Tp"
      },
      "source": [
        "yPred=model.predict(xTest)"
      ],
      "execution_count": 23,
      "outputs": []
    },
    {
      "cell_type": "code",
      "metadata": {
        "colab": {
          "base_uri": "https://localhost:8080/"
        },
        "id": "0jIsD78ZN1Tp",
        "outputId": "6be8283b-e38e-4dbb-e6ee-d8fddca4a919"
      },
      "source": [
        "yPred"
      ],
      "execution_count": 24,
      "outputs": [
        {
          "output_type": "execute_result",
          "data": {
            "text/plain": [
              "array([[0.7049475 ],\n",
              "       [1.2074841 ],\n",
              "       [1.2831047 ],\n",
              "       [1.2262119 ],\n",
              "       [1.2999802 ],\n",
              "       [1.2700044 ],\n",
              "       [1.2833912 ],\n",
              "       [1.2679203 ],\n",
              "       [1.3357068 ],\n",
              "       [1.2554067 ],\n",
              "       [1.2859107 ],\n",
              "       [1.265083  ],\n",
              "       [1.3203102 ],\n",
              "       [1.2925652 ],\n",
              "       [1.2615007 ],\n",
              "       [1.2032497 ],\n",
              "       [1.1691711 ],\n",
              "       [1.2499288 ],\n",
              "       [1.2510233 ],\n",
              "       [1.2305521 ],\n",
              "       [1.2360046 ],\n",
              "       [1.2158045 ],\n",
              "       [1.3506187 ],\n",
              "       [1.2946182 ],\n",
              "       [1.2804083 ],\n",
              "       [1.2831668 ],\n",
              "       [1.2910769 ],\n",
              "       [1.3021222 ],\n",
              "       [1.2792524 ],\n",
              "       [1.2923867 ],\n",
              "       [1.3332309 ],\n",
              "       [1.3451799 ],\n",
              "       [1.3216116 ],\n",
              "       [1.2871135 ],\n",
              "       [1.2885576 ],\n",
              "       [1.2920219 ],\n",
              "       [1.2776997 ],\n",
              "       [1.3095676 ],\n",
              "       [1.3111547 ],\n",
              "       [1.2976199 ],\n",
              "       [1.3193849 ],\n",
              "       [1.2747031 ],\n",
              "       [1.2868737 ],\n",
              "       [1.2564266 ],\n",
              "       [1.3488659 ],\n",
              "       [1.3328549 ],\n",
              "       [1.3140631 ],\n",
              "       [1.3038731 ],\n",
              "       [1.2753    ],\n",
              "       [1.3902804 ],\n",
              "       [1.3163902 ],\n",
              "       [1.2796524 ],\n",
              "       [1.2648488 ],\n",
              "       [1.3258598 ],\n",
              "       [1.3701473 ],\n",
              "       [1.3091211 ],\n",
              "       [1.4045931 ],\n",
              "       [1.4122734 ],\n",
              "       [1.4152589 ],\n",
              "       [1.4215648 ],\n",
              "       [1.4231249 ],\n",
              "       [1.368375  ],\n",
              "       [1.4181507 ],\n",
              "       [1.4558194 ],\n",
              "       [1.4053159 ],\n",
              "       [1.3350459 ],\n",
              "       [1.4322798 ],\n",
              "       [1.3600079 ],\n",
              "       [1.3702203 ],\n",
              "       [1.405121  ],\n",
              "       [1.3823977 ],\n",
              "       [1.3583537 ],\n",
              "       [1.3596047 ],\n",
              "       [1.3662378 ],\n",
              "       [1.3934989 ],\n",
              "       [1.4246429 ],\n",
              "       [1.405387  ],\n",
              "       [1.4288081 ],\n",
              "       [1.3647251 ],\n",
              "       [1.3942388 ],\n",
              "       [1.373743  ],\n",
              "       [1.3968462 ],\n",
              "       [1.389465  ],\n",
              "       [1.3938798 ],\n",
              "       [1.3588517 ],\n",
              "       [1.3344173 ],\n",
              "       [1.4251896 ],\n",
              "       [1.3967757 ],\n",
              "       [1.3759289 ],\n",
              "       [1.308196  ],\n",
              "       [1.4007344 ],\n",
              "       [1.3411347 ],\n",
              "       [1.3481699 ],\n",
              "       [1.3280127 ],\n",
              "       [1.312713  ],\n",
              "       [1.3276883 ],\n",
              "       [1.3140653 ],\n",
              "       [1.3453082 ],\n",
              "       [1.2786528 ],\n",
              "       [1.2870148 ],\n",
              "       [1.3955994 ],\n",
              "       [1.4317087 ],\n",
              "       [1.5118539 ],\n",
              "       [1.4137093 ],\n",
              "       [1.4622728 ],\n",
              "       [1.473657  ],\n",
              "       [1.4264954 ],\n",
              "       [1.4437474 ],\n",
              "       [1.4641899 ],\n",
              "       [1.4818639 ],\n",
              "       [1.4223928 ],\n",
              "       [1.4603058 ],\n",
              "       [1.4225909 ],\n",
              "       [1.4091835 ],\n",
              "       [1.4491323 ],\n",
              "       [1.4411922 ],\n",
              "       [1.424375  ],\n",
              "       [1.4369594 ],\n",
              "       [1.3974384 ],\n",
              "       [1.4200612 ],\n",
              "       [1.387973  ],\n",
              "       [1.4123482 ],\n",
              "       [1.4070954 ],\n",
              "       [1.410945  ],\n",
              "       [1.4346513 ],\n",
              "       [1.3765289 ],\n",
              "       [1.417391  ],\n",
              "       [1.4028577 ],\n",
              "       [1.4158616 ],\n",
              "       [1.406913  ],\n",
              "       [1.3076867 ],\n",
              "       [1.3951241 ],\n",
              "       [1.3845814 ],\n",
              "       [1.3396062 ],\n",
              "       [1.3312517 ],\n",
              "       [1.4383796 ],\n",
              "       [1.3711523 ],\n",
              "       [1.3366045 ],\n",
              "       [1.4551483 ],\n",
              "       [1.4452153 ],\n",
              "       [1.3992153 ],\n",
              "       [1.4080255 ],\n",
              "       [1.4220071 ],\n",
              "       [1.374076  ],\n",
              "       [1.438162  ],\n",
              "       [1.3722453 ],\n",
              "       [1.3991946 ],\n",
              "       [1.4333582 ],\n",
              "       [1.3779854 ],\n",
              "       [1.4306942 ],\n",
              "       [1.3866316 ],\n",
              "       [1.4172757 ],\n",
              "       [1.3893853 ],\n",
              "       [1.353423  ],\n",
              "       [1.3888582 ],\n",
              "       [1.3888732 ],\n",
              "       [1.3976709 ],\n",
              "       [1.4414951 ],\n",
              "       [1.4351794 ],\n",
              "       [1.4335606 ],\n",
              "       [1.4501525 ],\n",
              "       [1.3988017 ],\n",
              "       [1.3734692 ],\n",
              "       [1.4684709 ],\n",
              "       [1.3278682 ],\n",
              "       [1.3233521 ],\n",
              "       [1.4306735 ],\n",
              "       [1.4507346 ],\n",
              "       [1.4650366 ],\n",
              "       [1.4761196 ],\n",
              "       [1.476343  ],\n",
              "       [1.4750372 ],\n",
              "       [1.4720194 ],\n",
              "       [1.4891604 ],\n",
              "       [1.4705662 ],\n",
              "       [1.4876417 ],\n",
              "       [1.4498512 ],\n",
              "       [1.5262387 ],\n",
              "       [1.4620314 ],\n",
              "       [1.5334717 ],\n",
              "       [1.49641   ],\n",
              "       [1.3950589 ],\n",
              "       [1.5582069 ],\n",
              "       [1.4577429 ],\n",
              "       [1.5086795 ],\n",
              "       [1.473017  ],\n",
              "       [1.4839326 ],\n",
              "       [1.4743143 ],\n",
              "       [1.4945002 ],\n",
              "       [1.4786958 ],\n",
              "       [1.5064796 ],\n",
              "       [1.4158758 ],\n",
              "       [1.4909079 ],\n",
              "       [1.4617254 ],\n",
              "       [1.4546384 ],\n",
              "       [1.4529986 ],\n",
              "       [1.4720253 ],\n",
              "       [1.4398485 ],\n",
              "       [1.3999181 ],\n",
              "       [1.3971671 ],\n",
              "       [1.4845864 ],\n",
              "       [1.3759644 ],\n",
              "       [1.4608647 ],\n",
              "       [1.4618118 ],\n",
              "       [1.3946    ],\n",
              "       [1.4380044 ],\n",
              "       [1.371914  ],\n",
              "       [1.4367223 ],\n",
              "       [1.4135697 ],\n",
              "       [1.4298016 ],\n",
              "       [1.4451531 ],\n",
              "       [1.3576814 ],\n",
              "       [1.4828463 ],\n",
              "       [1.330223  ],\n",
              "       [1.458527  ],\n",
              "       [1.3821987 ],\n",
              "       [1.4023277 ],\n",
              "       [1.391332  ],\n",
              "       [1.3819085 ],\n",
              "       [1.2987788 ],\n",
              "       [1.3291203 ],\n",
              "       [1.3359455 ],\n",
              "       [1.184593  ],\n",
              "       [1.2447622 ],\n",
              "       [1.3306409 ],\n",
              "       [1.2905504 ],\n",
              "       [1.1889071 ],\n",
              "       [1.252155  ],\n",
              "       [1.3036059 ],\n",
              "       [1.2343102 ],\n",
              "       [1.2616968 ],\n",
              "       [1.2291167 ],\n",
              "       [1.2782043 ],\n",
              "       [1.2291443 ],\n",
              "       [1.1783776 ],\n",
              "       [1.1438651 ],\n",
              "       [1.1279544 ],\n",
              "       [1.1936784 ],\n",
              "       [1.155105  ],\n",
              "       [1.1537277 ],\n",
              "       [1.1864336 ],\n",
              "       [1.1775784 ],\n",
              "       [1.1902509 ],\n",
              "       [1.1745965 ],\n",
              "       [1.1856723 ],\n",
              "       [1.1712464 ],\n",
              "       [1.1547121 ],\n",
              "       [1.1847743 ],\n",
              "       [1.1831887 ],\n",
              "       [1.1795733 ],\n",
              "       [1.1496491 ],\n",
              "       [1.1579256 ],\n",
              "       [1.1771201 ],\n",
              "       [1.1451254 ],\n",
              "       [1.0969167 ],\n",
              "       [1.1525705 ],\n",
              "       [1.0981315 ],\n",
              "       [1.1098461 ],\n",
              "       [1.2006819 ],\n",
              "       [1.2204502 ],\n",
              "       [1.208767  ],\n",
              "       [1.1429087 ],\n",
              "       [1.1922731 ],\n",
              "       [1.1767955 ],\n",
              "       [1.168413  ],\n",
              "       [1.1905578 ],\n",
              "       [1.179185  ],\n",
              "       [1.1603931 ],\n",
              "       [1.1272824 ],\n",
              "       [1.1453937 ],\n",
              "       [1.0225977 ],\n",
              "       [1.063707  ],\n",
              "       [1.0942376 ],\n",
              "       [1.122379  ],\n",
              "       [1.0797131 ],\n",
              "       [1.044951  ],\n",
              "       [1.0515424 ],\n",
              "       [1.0844952 ],\n",
              "       [1.0953493 ],\n",
              "       [1.0367819 ],\n",
              "       [1.0623438 ],\n",
              "       [1.034234  ],\n",
              "       [1.0106661 ],\n",
              "       [1.0273242 ],\n",
              "       [0.8742198 ],\n",
              "       [0.8185785 ],\n",
              "       [0.7634479 ],\n",
              "       [0.7841697 ],\n",
              "       [0.8648038 ],\n",
              "       [0.935037  ],\n",
              "       [0.9171703 ],\n",
              "       [0.86319935],\n",
              "       [0.8376739 ],\n",
              "       [0.8425038 ],\n",
              "       [0.8726866 ],\n",
              "       [0.883345  ],\n",
              "       [0.86158824],\n",
              "       [0.8771219 ],\n",
              "       [0.88455033],\n",
              "       [0.87547493],\n",
              "       [0.8774619 ],\n",
              "       [0.86782324],\n",
              "       [0.89630926],\n",
              "       [0.9052199 ],\n",
              "       [0.9178344 ],\n",
              "       [0.90518296],\n",
              "       [0.9050144 ],\n",
              "       [0.8928374 ],\n",
              "       [0.8369069 ],\n",
              "       [0.7863064 ],\n",
              "       [0.76521623],\n",
              "       [0.71893644],\n",
              "       [0.7057729 ],\n",
              "       [0.69428074],\n",
              "       [0.69835734],\n",
              "       [0.6818876 ],\n",
              "       [0.67083704],\n",
              "       [0.6671026 ],\n",
              "       [0.65410995],\n",
              "       [0.6560146 ],\n",
              "       [0.6817868 ],\n",
              "       [0.71989846],\n",
              "       [0.73508716],\n",
              "       [0.7336329 ],\n",
              "       [0.7338891 ],\n",
              "       [0.7427863 ],\n",
              "       [0.7386366 ],\n",
              "       [0.71497643],\n",
              "       [0.68478274],\n",
              "       [0.6739631 ],\n",
              "       [0.6858158 ],\n",
              "       [0.70235693],\n",
              "       [0.6979519 ],\n",
              "       [0.6949841 ],\n",
              "       [0.69646174],\n",
              "       [0.68733215],\n",
              "       [0.6564096 ],\n",
              "       [0.6248505 ],\n",
              "       [0.5949112 ],\n",
              "       [0.58825815],\n",
              "       [0.58539975],\n",
              "       [0.57251066],\n",
              "       [0.5663322 ],\n",
              "       [0.5848714 ],\n",
              "       [0.62151587],\n",
              "       [0.6426707 ],\n",
              "       [0.6537805 ],\n",
              "       [0.67231405],\n",
              "       [0.6845661 ],\n",
              "       [0.67902553],\n",
              "       [0.67214155],\n",
              "       [0.6804068 ],\n",
              "       [0.688717  ],\n",
              "       [0.6839364 ],\n",
              "       [0.6719465 ],\n",
              "       [0.6806381 ],\n",
              "       [0.7025544 ],\n",
              "       [0.7255453 ],\n",
              "       [0.69961345],\n",
              "       [0.6807039 ],\n",
              "       [0.6797    ],\n",
              "       [0.67021716],\n",
              "       [0.6681694 ],\n",
              "       [0.66515076],\n",
              "       [0.66822267],\n",
              "       [0.6627054 ],\n",
              "       [0.6420609 ],\n",
              "       [0.630283  ],\n",
              "       [0.63537943],\n",
              "       [0.65052414],\n",
              "       [0.66551983],\n",
              "       [0.66399086],\n",
              "       [0.6510687 ],\n",
              "       [0.65257573],\n",
              "       [0.65814185],\n",
              "       [0.66308594],\n",
              "       [0.65644574],\n",
              "       [0.6498307 ],\n",
              "       [0.64097756],\n",
              "       [0.642653  ],\n",
              "       [0.6420064 ],\n",
              "       [0.6385409 ],\n",
              "       [0.644835  ],\n",
              "       [0.6092361 ],\n",
              "       [0.5787494 ],\n",
              "       [0.57634866],\n",
              "       [0.58164907],\n",
              "       [0.58298683],\n",
              "       [0.5625669 ],\n",
              "       [0.5380517 ],\n",
              "       [0.52051413],\n",
              "       [0.514009  ],\n",
              "       [0.52023256],\n",
              "       [0.53248906],\n",
              "       [0.5464469 ],\n",
              "       [0.55202806],\n",
              "       [0.54162276],\n",
              "       [0.5406929 ],\n",
              "       [0.520404  ],\n",
              "       [0.49871954],\n",
              "       [0.489285  ],\n",
              "       [0.49202642],\n",
              "       [0.50858337],\n",
              "       [0.52448285],\n",
              "       [0.5267067 ],\n",
              "       [0.52093464],\n",
              "       [0.5071187 ],\n",
              "       [0.50158465],\n",
              "       [0.5108063 ],\n",
              "       [0.5344331 ],\n",
              "       [0.55386007],\n",
              "       [0.5673293 ],\n",
              "       [0.55909395],\n",
              "       [0.54137754],\n",
              "       [0.52811146],\n",
              "       [0.50573283],\n",
              "       [0.455915  ],\n",
              "       [0.4051213 ],\n",
              "       [0.37469018],\n",
              "       [0.3651713 ],\n",
              "       [0.36443353],\n",
              "       [0.36353946],\n",
              "       [0.35861972],\n",
              "       [0.34899318],\n",
              "       [0.3461976 ],\n",
              "       [0.3509418 ],\n",
              "       [0.35144827],\n",
              "       [0.34559563],\n",
              "       [0.33641723],\n",
              "       [0.3224409 ],\n",
              "       [0.31296584],\n",
              "       [0.30671433],\n",
              "       [0.29984862],\n",
              "       [0.2922972 ],\n",
              "       [0.28711852],\n",
              "       [0.2843688 ],\n",
              "       [0.2829924 ],\n",
              "       [0.27786535]], dtype=float32)"
            ]
          },
          "metadata": {
            "tags": []
          },
          "execution_count": 24
        }
      ]
    },
    {
      "cell_type": "code",
      "metadata": {
        "colab": {
          "base_uri": "https://localhost:8080/"
        },
        "id": "dEaYW4WxN1Tq",
        "outputId": "20dde264-24b1-4d1c-8d8a-503689a30aa7"
      },
      "source": [
        "scaler.scale_,scaler.data_min_"
      ],
      "execution_count": 25,
      "outputs": [
        {
          "output_type": "execute_result",
          "data": {
            "text/plain": [
              "(array([1.36518771e-02, 1.37835975e-02, 1.36798906e-02, 1.38504155e-02,\n",
              "        5.89477253e-08]),\n",
              " array([1.0300e+02, 1.0460e+02, 1.0000e+02, 1.0265e+02, 1.0018e+05]))"
            ]
          },
          "metadata": {
            "tags": []
          },
          "execution_count": 25
        }
      ]
    },
    {
      "cell_type": "code",
      "metadata": {
        "id": "16g2RfUON1Tq"
      },
      "source": [
        "scaleVal=1/2.97428729e-04"
      ],
      "execution_count": 27,
      "outputs": []
    },
    {
      "cell_type": "markdown",
      "metadata": {
        "id": "XSF1L19HN1Tq"
      },
      "source": [
        "## Inverse Scaling and Normalisation"
      ]
    },
    {
      "cell_type": "code",
      "metadata": {
        "id": "b4dFMvOPN1Tq"
      },
      "source": [
        "yPred=(yPred*scaleVal)+testSet['Open'].min()\n",
        "yTest=(yTest*scaleVal)+testSet['Open'].min()"
      ],
      "execution_count": 28,
      "outputs": []
    },
    {
      "cell_type": "code",
      "metadata": {
        "id": "1J2C2LWFN1Tq"
      },
      "source": [
        "yPred = (yPred*yTest.sum())/(yPred.sum())"
      ],
      "execution_count": 29,
      "outputs": []
    },
    {
      "cell_type": "markdown",
      "metadata": {
        "id": "6QEQfZAtN1Tr"
      },
      "source": [
        "## Plotting predicted values"
      ]
    },
    {
      "cell_type": "code",
      "metadata": {
        "colab": {
          "base_uri": "https://localhost:8080/",
          "height": 350
        },
        "id": "yUOYmHQhN1Tr",
        "outputId": "17d18369-9143-42c4-ff4a-979b60647576"
      },
      "source": [
        "plt.figure(figsize=(14,5))\n",
        "plt.plot(yTest,color='red',label='Original')\n",
        "plt.plot(yPred,color='blue',label='Predicted')\n",
        "\n",
        "plt.title('Prediction')\n",
        "plt.xlabel('Days')\n",
        "plt.ylabel('Price')\n",
        "\n",
        "plt.legend()\n",
        "plt.show()\n"
      ],
      "execution_count": 30,
      "outputs": [
        {
          "output_type": "display_data",
          "data": {
            "image/png": "[encoded data removed]",
            "text/plain": [
              "<Figure size 1008x360 with 1 Axes>"
            ]
          },
          "metadata": {
            "tags": [],
            "needs_background": "light"
          }
        }
      ]
    },
    {
      "cell_type": "code",
      "metadata": {
        "colab": {
          "base_uri": "https://localhost:8080/"
        },
        "id": "mPJaQ-n8UOm0",
        "outputId": "a314a3f2-1259-4028-df4a-c26c851b84c9"
      },
      "source": [
        "from sklearn.metrics import r2_score\r\n",
        "r2_score(yTest, yPred)"
      ],
      "execution_count": 37,
      "outputs": [
        {
          "output_type": "execute_result",
          "data": {
            "text/plain": [
              "0.8317683154378149"
            ]
          },
          "metadata": {
            "tags": []
          },
          "execution_count": 37
        }
      ]
    }
  ]
}