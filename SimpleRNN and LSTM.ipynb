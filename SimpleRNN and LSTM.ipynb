{
  "nbformat": 4,
  "nbformat_minor": 0,
  "metadata": {
    "kernelspec": {
      "display_name": "Python 3",
      "language": "python",
      "name": "python3"
    },
    "language_info": {
      "codemirror_mode": {
        "name": "ipython",
        "version": 3
      },
      "file_extension": ".py",
      "mimetype": "text/x-python",
      "name": "python",
      "nbconvert_exporter": "python",
      "pygments_lexer": "ipython3",
      "version": "3.8.6"
    },
    "colab": {
      "name": "Improving-Algorithm-Based-Trading-SBIN.ipynb",
      "provenance": [],
      "toc_visible": true
    }
  },
  "cells": [
    {
      "cell_type": "code",
      "metadata": {
        "_cell_guid": "b1076dfc-b9ad-4769-8c92-a6c4dae69d19",
        "_uuid": "8f2839f25d086af736a60e9eeb907d3b93b6e0e5",
        "id": "orB2Y0V6O8qU"
      },
      "source": [
        "import numpy as np\n",
        "import pandas as pd \n",
        "\n",
        "# Visualisation\n",
        "import matplotlib.pyplot as plt\n",
        "\n",
        "from datetime import datetime\n",
        "\n",
        "# Scaling\n",
        "from sklearn.preprocessing import MinMaxScaler\n",
        "\n",
        "# Deep Learning using Keras\n",
        "from tensorflow.keras.models import Sequential, load_model\n",
        "from tensorflow.keras.layers import LSTM, Dense, Dropout,SimpleRNN\n",
        "from tensorflow.keras.optimizers import Adam\n",
        "from tensorflow.keras.callbacks import ModelCheckpoint, TensorBoard\n",
        "\n",
        "# Model insights\n",
        "import tensorboard\n",
        "\n",
        "# Clear any logs from previous runs\n",
        "!rm -rf ./logs/"
      ],
      "execution_count": 2,
      "outputs": []
    },
    {
      "cell_type": "markdown",
      "metadata": {
        "id": "EL7yGnSAO8qV"
      },
      "source": [
        "## Loading data from CSV file to DataFrame"
      ]
    },
    {
      "cell_type": "code",
      "metadata": {
        "_cell_guid": "79c7e3d0-c299-4dcb-8224-4455121ee9b0",
        "_uuid": "d629ff2d2480ee46fbb7e2d37f6b5fab8052498a",
        "id": "ma3ulPvMO8qV"
      },
      "source": [
        "df=pd.read_csv('/content/NSE-Tata-Global-Beverages-Limited.csv',date_parser=True)"
      ],
      "execution_count": 3,
      "outputs": []
    },
    {
      "cell_type": "code",
      "metadata": {
        "id": "whKXHE-0O8qV",
        "colab": {
          "base_uri": "https://localhost:8080/"
        },
        "outputId": "17b2af30-1c57-4417-9895-5da97a618fc8"
      },
      "source": [
        "df.shape"
      ],
      "execution_count": 4,
      "outputs": [
        {
          "output_type": "execute_result",
          "data": {
            "text/plain": [
              "(1235, 8)"
            ]
          },
          "metadata": {
            "tags": []
          },
          "execution_count": 4
        }
      ]
    },
    {
      "cell_type": "code",
      "metadata": {
        "id": "w2Y0ANjYO8qW",
        "colab": {
          "base_uri": "https://localhost:8080/",
          "height": 204
        },
        "outputId": "c4441709-c749-4910-e8ea-e243ef81a89c"
      },
      "source": [
        "df.head()"
      ],
      "execution_count": 5,
      "outputs": [
        {
          "output_type": "execute_result",
          "data": {
            "text/html": [
              "<div>\n",
              "<style scoped>\n",
              "    .dataframe tbody tr th:only-of-type {\n",
              "        vertical-align: middle;\n",
              "    }\n",
              "\n",
              "    .dataframe tbody tr th {\n",
              "        vertical-align: top;\n",
              "    }\n",
              "\n",
              "    .dataframe thead th {\n",
              "        text-align: right;\n",
              "    }\n",
              "</style>\n",
              "<table border=\"1\" class=\"dataframe\">\n",
              "  <thead>\n",
              "    <tr style=\"text-align: right;\">\n",
              "      <th></th>\n",
              "      <th>Date</th>\n",
              "      <th>Open</th>\n",
              "      <th>High</th>\n",
              "      <th>Low</th>\n",
              "      <th>Last</th>\n",
              "      <th>Close</th>\n",
              "      <th>Total Trade Quantity</th>\n",
              "      <th>Turnover (Lacs)</th>\n",
              "    </tr>\n",
              "  </thead>\n",
              "  <tbody>\n",
              "    <tr>\n",
              "      <th>0</th>\n",
              "      <td>2018-10-08</td>\n",
              "      <td>208.00</td>\n",
              "      <td>222.25</td>\n",
              "      <td>206.85</td>\n",
              "      <td>216.00</td>\n",
              "      <td>215.15</td>\n",
              "      <td>4642146.0</td>\n",
              "      <td>10062.83</td>\n",
              "    </tr>\n",
              "    <tr>\n",
              "      <th>1</th>\n",
              "      <td>2018-10-05</td>\n",
              "      <td>217.00</td>\n",
              "      <td>218.60</td>\n",
              "      <td>205.90</td>\n",
              "      <td>210.25</td>\n",
              "      <td>209.20</td>\n",
              "      <td>3519515.0</td>\n",
              "      <td>7407.06</td>\n",
              "    </tr>\n",
              "    <tr>\n",
              "      <th>2</th>\n",
              "      <td>2018-10-04</td>\n",
              "      <td>223.50</td>\n",
              "      <td>227.80</td>\n",
              "      <td>216.15</td>\n",
              "      <td>217.25</td>\n",
              "      <td>218.20</td>\n",
              "      <td>1728786.0</td>\n",
              "      <td>3815.79</td>\n",
              "    </tr>\n",
              "    <tr>\n",
              "      <th>3</th>\n",
              "      <td>2018-10-03</td>\n",
              "      <td>230.00</td>\n",
              "      <td>237.50</td>\n",
              "      <td>225.75</td>\n",
              "      <td>226.45</td>\n",
              "      <td>227.60</td>\n",
              "      <td>1708590.0</td>\n",
              "      <td>3960.27</td>\n",
              "    </tr>\n",
              "    <tr>\n",
              "      <th>4</th>\n",
              "      <td>2018-10-01</td>\n",
              "      <td>234.55</td>\n",
              "      <td>234.60</td>\n",
              "      <td>221.05</td>\n",
              "      <td>230.30</td>\n",
              "      <td>230.90</td>\n",
              "      <td>1534749.0</td>\n",
              "      <td>3486.05</td>\n",
              "    </tr>\n",
              "  </tbody>\n",
              "</table>\n",
              "</div>"
            ],
            "text/plain": [
              "         Date    Open    High  ...   Close  Total Trade Quantity  Turnover (Lacs)\n",
              "0  2018-10-08  208.00  222.25  ...  215.15             4642146.0         10062.83\n",
              "1  2018-10-05  217.00  218.60  ...  209.20             3519515.0          7407.06\n",
              "2  2018-10-04  223.50  227.80  ...  218.20             1728786.0          3815.79\n",
              "3  2018-10-03  230.00  237.50  ...  227.60             1708590.0          3960.27\n",
              "4  2018-10-01  234.55  234.60  ...  230.90             1534749.0          3486.05\n",
              "\n",
              "[5 rows x 8 columns]"
            ]
          },
          "metadata": {
            "tags": []
          },
          "execution_count": 5
        }
      ]
    },
    {
      "cell_type": "code",
      "metadata": {
        "scrolled": true,
        "id": "S-7mKggwO8qX",
        "outputId": "57cd0f5d-c31e-42d4-cef3-a9e1a2641d9c"
      },
      "source": [
        "df.tail()"
      ],
      "execution_count": null,
      "outputs": [
        {
          "output_type": "execute_result",
          "data": {
            "text/html": [
              "<div>\n",
              "<style scoped>\n",
              "    .dataframe tbody tr th:only-of-type {\n",
              "        vertical-align: middle;\n",
              "    }\n",
              "\n",
              "    .dataframe tbody tr th {\n",
              "        vertical-align: top;\n",
              "    }\n",
              "\n",
              "    .dataframe thead th {\n",
              "        text-align: right;\n",
              "    }\n",
              "</style>\n",
              "<table border=\"1\" class=\"dataframe\">\n",
              "  <thead>\n",
              "    <tr style=\"text-align: right;\">\n",
              "      <th></th>\n",
              "      <th>Date</th>\n",
              "      <th>Symbol</th>\n",
              "      <th>Series</th>\n",
              "      <th>Prev Close</th>\n",
              "      <th>Open</th>\n",
              "      <th>High</th>\n",
              "      <th>Low</th>\n",
              "      <th>Last</th>\n",
              "      <th>Close</th>\n",
              "      <th>VWAP</th>\n",
              "      <th>Volume</th>\n",
              "      <th>Turnover</th>\n",
              "      <th>Trades</th>\n",
              "      <th>Deliverable Volume</th>\n",
              "      <th>%Deliverble</th>\n",
              "    </tr>\n",
              "  </thead>\n",
              "  <tbody>\n",
              "    <tr>\n",
              "      <th>5158</th>\n",
              "      <td>2020-09-24</td>\n",
              "      <td>SBIN</td>\n",
              "      <td>EQ</td>\n",
              "      <td>183.80</td>\n",
              "      <td>181.10</td>\n",
              "      <td>181.80</td>\n",
              "      <td>175.50</td>\n",
              "      <td>176.45</td>\n",
              "      <td>176.35</td>\n",
              "      <td>178.59</td>\n",
              "      <td>46115352</td>\n",
              "      <td>8.235929e+14</td>\n",
              "      <td>286558.0</td>\n",
              "      <td>12700503.0</td>\n",
              "      <td>0.2754</td>\n",
              "    </tr>\n",
              "    <tr>\n",
              "      <th>5159</th>\n",
              "      <td>2020-09-25</td>\n",
              "      <td>SBIN</td>\n",
              "      <td>EQ</td>\n",
              "      <td>176.35</td>\n",
              "      <td>179.00</td>\n",
              "      <td>182.75</td>\n",
              "      <td>176.15</td>\n",
              "      <td>182.25</td>\n",
              "      <td>182.20</td>\n",
              "      <td>179.71</td>\n",
              "      <td>46550618</td>\n",
              "      <td>8.365427e+14</td>\n",
              "      <td>213017.0</td>\n",
              "      <td>7170816.0</td>\n",
              "      <td>0.1540</td>\n",
              "    </tr>\n",
              "    <tr>\n",
              "      <th>5160</th>\n",
              "      <td>2020-09-28</td>\n",
              "      <td>SBIN</td>\n",
              "      <td>EQ</td>\n",
              "      <td>182.20</td>\n",
              "      <td>184.00</td>\n",
              "      <td>188.15</td>\n",
              "      <td>183.35</td>\n",
              "      <td>187.45</td>\n",
              "      <td>187.25</td>\n",
              "      <td>186.34</td>\n",
              "      <td>41921659</td>\n",
              "      <td>7.811519e+14</td>\n",
              "      <td>195148.0</td>\n",
              "      <td>6606392.0</td>\n",
              "      <td>0.1576</td>\n",
              "    </tr>\n",
              "    <tr>\n",
              "      <th>5161</th>\n",
              "      <td>2020-09-29</td>\n",
              "      <td>SBIN</td>\n",
              "      <td>EQ</td>\n",
              "      <td>187.25</td>\n",
              "      <td>188.50</td>\n",
              "      <td>188.95</td>\n",
              "      <td>183.25</td>\n",
              "      <td>185.30</td>\n",
              "      <td>185.05</td>\n",
              "      <td>185.23</td>\n",
              "      <td>35688939</td>\n",
              "      <td>6.610754e+14</td>\n",
              "      <td>146100.0</td>\n",
              "      <td>3785103.0</td>\n",
              "      <td>0.1061</td>\n",
              "    </tr>\n",
              "    <tr>\n",
              "      <th>5162</th>\n",
              "      <td>2020-09-30</td>\n",
              "      <td>SBIN</td>\n",
              "      <td>EQ</td>\n",
              "      <td>185.05</td>\n",
              "      <td>185.05</td>\n",
              "      <td>186.80</td>\n",
              "      <td>182.40</td>\n",
              "      <td>185.20</td>\n",
              "      <td>185.40</td>\n",
              "      <td>184.91</td>\n",
              "      <td>37642302</td>\n",
              "      <td>6.960341e+14</td>\n",
              "      <td>159069.0</td>\n",
              "      <td>5421166.0</td>\n",
              "      <td>0.1440</td>\n",
              "    </tr>\n",
              "  </tbody>\n",
              "</table>\n",
              "</div>"
            ],
            "text/plain": [
              "            Date Symbol Series  Prev Close    Open    High     Low    Last  \\\n",
              "5158  2020-09-24   SBIN     EQ      183.80  181.10  181.80  175.50  176.45   \n",
              "5159  2020-09-25   SBIN     EQ      176.35  179.00  182.75  176.15  182.25   \n",
              "5160  2020-09-28   SBIN     EQ      182.20  184.00  188.15  183.35  187.45   \n",
              "5161  2020-09-29   SBIN     EQ      187.25  188.50  188.95  183.25  185.30   \n",
              "5162  2020-09-30   SBIN     EQ      185.05  185.05  186.80  182.40  185.20   \n",
              "\n",
              "       Close    VWAP    Volume      Turnover    Trades  Deliverable Volume  \\\n",
              "5158  176.35  178.59  46115352  8.235929e+14  286558.0          12700503.0   \n",
              "5159  182.20  179.71  46550618  8.365427e+14  213017.0           7170816.0   \n",
              "5160  187.25  186.34  41921659  7.811519e+14  195148.0           6606392.0   \n",
              "5161  185.05  185.23  35688939  6.610754e+14  146100.0           3785103.0   \n",
              "5162  185.40  184.91  37642302  6.960341e+14  159069.0           5421166.0   \n",
              "\n",
              "      %Deliverble  \n",
              "5158       0.2754  \n",
              "5159       0.1540  \n",
              "5160       0.1576  \n",
              "5161       0.1061  \n",
              "5162       0.1440  "
            ]
          },
          "metadata": {
            "tags": []
          },
          "execution_count": 5
        }
      ]
    },
    {
      "cell_type": "markdown",
      "metadata": {
        "id": "VhoDuRiyO8qX"
      },
      "source": [
        "## Splitting data into Train and Test\n",
        "As this is a sequential dataset we are splitting by date and not randomly"
      ]
    },
    {
      "cell_type": "code",
      "metadata": {
        "id": "-VnUWMfVO8qX"
      },
      "source": [
        "train=df[df['Date']<'2017-01-01']\n",
        "test=df[df['Date']>='2017-01-01']"
      ],
      "execution_count": 6,
      "outputs": []
    },
    {
      "cell_type": "markdown",
      "metadata": {
        "id": "jOdArONtO8qY"
      },
      "source": [
        "## Storing only required columns"
      ]
    },
    {
      "cell_type": "code",
      "metadata": {
        "id": "Fj9RsHioO8qY"
      },
      "source": [
        "cols=['Open','High','Low','Close','Total Trade Quantity']\n",
        "train=train[cols]\n",
        "test=test[cols]"
      ],
      "execution_count": 8,
      "outputs": []
    },
    {
      "cell_type": "markdown",
      "metadata": {
        "id": "NZzTNUCYO8qY"
      },
      "source": [
        "## Scaling the data using Min-Max Scaler"
      ]
    },
    {
      "cell_type": "code",
      "metadata": {
        "id": "UBJjGlGWO8qY",
        "colab": {
          "base_uri": "https://localhost:8080/"
        },
        "outputId": "76026adf-346f-4e87-d33b-3f03c17840a1"
      },
      "source": [
        "scaler=MinMaxScaler()\n",
        "\n",
        "nTrain=scaler.fit_transform(train)\n",
        "nTrain"
      ],
      "execution_count": 9,
      "outputs": [
        {
          "output_type": "execute_result",
          "data": {
            "text/plain": [
              "array([[0.24709898, 0.25775327, 0.28864569, 0.26800554, 0.0540708 ],\n",
              "       [0.22662116, 0.24190214, 0.26812585, 0.25554017, 0.05454569],\n",
              "       [0.22116041, 0.2398346 , 0.2626539 , 0.23476454, 0.04519652],\n",
              "       ...,\n",
              "       [0.72354949, 0.77463818, 0.76402189, 0.79639889, 0.17829759],\n",
              "       [0.71945392, 0.73880083, 0.74076607, 0.73268698, 0.1149127 ],\n",
              "       [0.73720137, 0.73328739, 0.75512996, 0.73614958, 0.09550905]])"
            ]
          },
          "metadata": {
            "tags": []
          },
          "execution_count": 9
        }
      ]
    },
    {
      "cell_type": "markdown",
      "metadata": {
        "id": "4zqd3IV0O8qZ"
      },
      "source": [
        "## Storing data in a Numpy array"
      ]
    },
    {
      "cell_type": "code",
      "metadata": {
        "id": "egHvsFYhO8qZ",
        "colab": {
          "base_uri": "https://localhost:8080/"
        },
        "outputId": "ad4ced92-d690-4c2c-caf9-7e27ec85bcd8"
      },
      "source": [
        "xTrain=[]\n",
        "yTrain=[]\n",
        "window=60\n",
        "\n",
        "for i in range(window,nTrain.shape[0]):\n",
        "    xTrain.append(nTrain[i-window:i])\n",
        "    yTrain.append(nTrain[i,0])\n",
        "\n",
        "xTrain,yTrain=np.array(xTrain),np.array(yTrain)\n",
        "\n",
        "xTrain.shape,yTrain.shape"
      ],
      "execution_count": 10,
      "outputs": [
        {
          "output_type": "execute_result",
          "data": {
            "text/plain": [
              "((737, 60, 5), (737,))"
            ]
          },
          "metadata": {
            "tags": []
          },
          "execution_count": 10
        }
      ]
    },
    {
      "cell_type": "markdown",
      "metadata": {
        "id": "6tRr-uU3O8qZ"
      },
      "source": [
        "## Model Definition"
      ]
    },
    {
      "cell_type": "code",
      "metadata": {
        "id": "dl6pKMKuO8qZ"
      },
      "source": [
        "from tensorflow.keras.layers  import SimpleRNN\n",
        "model=Sequential()\n",
        "\n",
        "model.add(SimpleRNN(units=50, activation='tanh', return_sequences=True, input_shape=(window,5)))\n",
        "model.add(Dropout(0.2))\n",
        "\n",
        "model.add(LSTM(units=60, activation='tanh', return_sequences=True, recurrent_activation = \"sigmoid\"))\n",
        "model.add(Dropout(0.3))\n",
        "model.add(SimpleRNN(units=50, activation='tanh', return_sequences=True, input_shape=(window,5)))\n",
        "model.add(Dropout(0.3))\n",
        "\n",
        "model.add(LSTM(units=80, activation='tanh', return_sequences=True, recurrent_activation = \"sigmoid\"))\n",
        "model.add(Dropout(0.4))\n",
        "model.add(SimpleRNN(units=50, activation='tanh', return_sequences=True, input_shape=(window,5)))\n",
        "model.add(Dropout(0.4))\n",
        "\n",
        "model.add(LSTM(units=120, activation='tanh', recurrent_activation = \"sigmoid\"))\n",
        "model.add(Dropout(0.5))\n",
        "\n",
        "model.add(Dense(units=1))"
      ],
      "execution_count": 17,
      "outputs": []
    },
    {
      "cell_type": "code",
      "metadata": {
        "id": "0zBCeKIJO8qa",
        "outputId": "b742b4ca-c3c1-487d-837c-11889c5facd1"
      },
      "source": [
        "model.summary()"
      ],
      "execution_count": null,
      "outputs": [
        {
          "output_type": "stream",
          "text": [
            "Model: \"sequential\"\n",
            "_________________________________________________________________\n",
            "Layer (type)                 Output Shape              Param #   \n",
            "=================================================================\n",
            "lstm (LSTM)                  (None, 60, 50)            11200     \n",
            "_________________________________________________________________\n",
            "dropout (Dropout)            (None, 60, 50)            0         \n",
            "_________________________________________________________________\n",
            "lstm_1 (LSTM)                (None, 60, 60)            26640     \n",
            "_________________________________________________________________\n",
            "dropout_1 (Dropout)          (None, 60, 60)            0         \n",
            "_________________________________________________________________\n",
            "lstm_2 (LSTM)                (None, 60, 80)            45120     \n",
            "_________________________________________________________________\n",
            "dropout_2 (Dropout)          (None, 60, 80)            0         \n",
            "_________________________________________________________________\n",
            "lstm_3 (LSTM)                (None, 120)               96480     \n",
            "_________________________________________________________________\n",
            "dropout_3 (Dropout)          (None, 120)               0         \n",
            "_________________________________________________________________\n",
            "dense (Dense)                (None, 1)                 121       \n",
            "=================================================================\n",
            "Total params: 179,561\n",
            "Trainable params: 179,561\n",
            "Non-trainable params: 0\n",
            "_________________________________________________________________\n"
          ],
          "name": "stdout"
        }
      ]
    },
    {
      "cell_type": "code",
      "metadata": {
        "id": "mHZcrTXtO8qa"
      },
      "source": [
        "# Checkpoint to store weights for least obtained loss \n",
        "checkpoint = ModelCheckpoint('best.h5', monitor='loss', verbose=1,save_best_only=True, save_freq=\"epoch\")\n",
        "\n",
        "# Define the Keras TensorBoard callback.\n",
        "logdir=\"logs/fit/\" + datetime.now().strftime(\"%Y%m%d-%H%M%S\")\n",
        "tensorboard_callback = TensorBoard(log_dir=logdir)\n",
        "\n",
        "# Optimizer: Adam lr=0.001\n",
        "# Loss Function: Mean Squared Error\n",
        "model.compile(optimizer=Adam(), loss='mean_squared_error')"
      ],
      "execution_count": 18,
      "outputs": []
    },
    {
      "cell_type": "markdown",
      "metadata": {
        "id": "_RpfCl8ZO8qa"
      },
      "source": [
        "## Model Training"
      ]
    },
    {
      "cell_type": "code",
      "metadata": {
        "scrolled": true,
        "id": "QAypQ8RqO8qa",
        "colab": {
          "base_uri": "https://localhost:8080/"
        },
        "outputId": "1f4581f9-46f7-41b4-ed72-7055b4afed02"
      },
      "source": [
        "History = model.fit(xTrain,yTrain,epochs=100,callbacks=[checkpoint,tensorboard_callback])"
      ],
      "execution_count": 19,
      "outputs": [
        {
          "output_type": "stream",
          "text": [
            "Epoch 1/100\n",
            " 1/24 [>.............................] - ETA: 0s - loss: 0.3104WARNING:tensorflow:From /usr/local/lib/python3.6/dist-packages/tensorflow/python/ops/summary_ops_v2.py:1277: stop (from tensorflow.python.eager.profiler) is deprecated and will be removed after 2020-07-01.\n",
            "Instructions for updating:\n",
            "use `tf.profiler.experimental.stop` instead.\n",
            " 2/24 [=>............................] - ETA: 8s - loss: 0.2233WARNING:tensorflow:Callbacks method `on_train_batch_end` is slow compared to the batch time (batch time: 0.1824s vs `on_train_batch_end` time: 0.5649s). Check your callbacks.\n",
            "24/24 [==============================] - ETA: 0s - loss: 0.0901\n",
            "Epoch 00001: loss improved from inf to 0.09013, saving model to best.h5\n",
            "24/24 [==============================] - 4s 178ms/step - loss: 0.0901\n",
            "Epoch 2/100\n",
            "24/24 [==============================] - ETA: 0s - loss: 0.0349\n",
            "Epoch 00002: loss improved from 0.09013 to 0.03491, saving model to best.h5\n",
            "24/24 [==============================] - 4s 161ms/step - loss: 0.0349\n",
            "Epoch 3/100\n",
            "24/24 [==============================] - ETA: 0s - loss: 0.0329\n",
            "Epoch 00003: loss improved from 0.03491 to 0.03290, saving model to best.h5\n",
            "24/24 [==============================] - 4s 161ms/step - loss: 0.0329\n",
            "Epoch 4/100\n",
            "24/24 [==============================] - ETA: 0s - loss: 0.0230\n",
            "Epoch 00004: loss improved from 0.03290 to 0.02302, saving model to best.h5\n",
            "24/24 [==============================] - 4s 160ms/step - loss: 0.0230\n",
            "Epoch 5/100\n",
            "24/24 [==============================] - ETA: 0s - loss: 0.0203\n",
            "Epoch 00005: loss improved from 0.02302 to 0.02028, saving model to best.h5\n",
            "24/24 [==============================] - 4s 160ms/step - loss: 0.0203\n",
            "Epoch 6/100\n",
            "24/24 [==============================] - ETA: 0s - loss: 0.0208\n",
            "Epoch 00006: loss did not improve from 0.02028\n",
            "24/24 [==============================] - 4s 158ms/step - loss: 0.0208\n",
            "Epoch 7/100\n",
            "24/24 [==============================] - ETA: 0s - loss: 0.0208\n",
            "Epoch 00007: loss did not improve from 0.02028\n",
            "24/24 [==============================] - 4s 157ms/step - loss: 0.0208\n",
            "Epoch 8/100\n",
            "24/24 [==============================] - ETA: 0s - loss: 0.0203\n",
            "Epoch 00008: loss did not improve from 0.02028\n",
            "24/24 [==============================] - 4s 159ms/step - loss: 0.0203\n",
            "Epoch 9/100\n",
            "24/24 [==============================] - ETA: 0s - loss: 0.0244\n",
            "Epoch 00009: loss did not improve from 0.02028\n",
            "24/24 [==============================] - 4s 158ms/step - loss: 0.0244\n",
            "Epoch 10/100\n",
            "24/24 [==============================] - ETA: 0s - loss: 0.0168\n",
            "Epoch 00010: loss improved from 0.02028 to 0.01679, saving model to best.h5\n",
            "24/24 [==============================] - 4s 159ms/step - loss: 0.0168\n",
            "Epoch 11/100\n",
            "24/24 [==============================] - ETA: 0s - loss: 0.0202\n",
            "Epoch 00011: loss did not improve from 0.01679\n",
            "24/24 [==============================] - 4s 159ms/step - loss: 0.0202\n",
            "Epoch 12/100\n",
            "24/24 [==============================] - ETA: 0s - loss: 0.0143\n",
            "Epoch 00012: loss improved from 0.01679 to 0.01434, saving model to best.h5\n",
            "24/24 [==============================] - 4s 159ms/step - loss: 0.0143\n",
            "Epoch 13/100\n",
            "24/24 [==============================] - ETA: 0s - loss: 0.0141\n",
            "Epoch 00013: loss improved from 0.01434 to 0.01411, saving model to best.h5\n",
            "24/24 [==============================] - 4s 159ms/step - loss: 0.0141\n",
            "Epoch 14/100\n",
            "24/24 [==============================] - ETA: 0s - loss: 0.0129\n",
            "Epoch 00014: loss improved from 0.01411 to 0.01294, saving model to best.h5\n",
            "24/24 [==============================] - 4s 159ms/step - loss: 0.0129\n",
            "Epoch 15/100\n",
            "24/24 [==============================] - ETA: 0s - loss: 0.0184\n",
            "Epoch 00015: loss did not improve from 0.01294\n",
            "24/24 [==============================] - 4s 156ms/step - loss: 0.0184\n",
            "Epoch 16/100\n",
            "24/24 [==============================] - ETA: 0s - loss: 0.0144\n",
            "Epoch 00016: loss did not improve from 0.01294\n",
            "24/24 [==============================] - 4s 157ms/step - loss: 0.0144\n",
            "Epoch 17/100\n",
            "24/24 [==============================] - ETA: 0s - loss: 0.0134\n",
            "Epoch 00017: loss did not improve from 0.01294\n",
            "24/24 [==============================] - 4s 157ms/step - loss: 0.0134\n",
            "Epoch 18/100\n",
            "24/24 [==============================] - ETA: 0s - loss: 0.0128\n",
            "Epoch 00018: loss improved from 0.01294 to 0.01275, saving model to best.h5\n",
            "24/24 [==============================] - 4s 157ms/step - loss: 0.0128\n",
            "Epoch 19/100\n",
            "24/24 [==============================] - ETA: 0s - loss: 0.0124\n",
            "Epoch 00019: loss improved from 0.01275 to 0.01245, saving model to best.h5\n",
            "24/24 [==============================] - 4s 157ms/step - loss: 0.0124\n",
            "Epoch 20/100\n",
            "24/24 [==============================] - ETA: 0s - loss: 0.0114\n",
            "Epoch 00020: loss improved from 0.01245 to 0.01140, saving model to best.h5\n",
            "24/24 [==============================] - 4s 158ms/step - loss: 0.0114\n",
            "Epoch 21/100\n",
            "24/24 [==============================] - ETA: 0s - loss: 0.0124\n",
            "Epoch 00021: loss did not improve from 0.01140\n",
            "24/24 [==============================] - 4s 158ms/step - loss: 0.0124\n",
            "Epoch 22/100\n",
            "24/24 [==============================] - ETA: 0s - loss: 0.0117\n",
            "Epoch 00022: loss did not improve from 0.01140\n",
            "24/24 [==============================] - 4s 156ms/step - loss: 0.0117\n",
            "Epoch 23/100\n",
            "24/24 [==============================] - ETA: 0s - loss: 0.0112\n",
            "Epoch 00023: loss improved from 0.01140 to 0.01125, saving model to best.h5\n",
            "24/24 [==============================] - 4s 163ms/step - loss: 0.0112\n",
            "Epoch 24/100\n",
            "24/24 [==============================] - ETA: 0s - loss: 0.0118\n",
            "Epoch 00024: loss did not improve from 0.01125\n",
            "24/24 [==============================] - 4s 161ms/step - loss: 0.0118\n",
            "Epoch 25/100\n",
            "24/24 [==============================] - ETA: 0s - loss: 0.0114\n",
            "Epoch 00025: loss did not improve from 0.01125\n",
            "24/24 [==============================] - 4s 161ms/step - loss: 0.0114\n",
            "Epoch 26/100\n",
            "24/24 [==============================] - ETA: 0s - loss: 0.0105\n",
            "Epoch 00026: loss improved from 0.01125 to 0.01054, saving model to best.h5\n",
            "24/24 [==============================] - 4s 164ms/step - loss: 0.0105\n",
            "Epoch 27/100\n",
            "24/24 [==============================] - ETA: 0s - loss: 0.0100\n",
            "Epoch 00027: loss improved from 0.01054 to 0.01004, saving model to best.h5\n",
            "24/24 [==============================] - 4s 163ms/step - loss: 0.0100\n",
            "Epoch 28/100\n",
            "24/24 [==============================] - ETA: 0s - loss: 0.0091\n",
            "Epoch 00028: loss improved from 0.01004 to 0.00909, saving model to best.h5\n",
            "24/24 [==============================] - 4s 160ms/step - loss: 0.0091\n",
            "Epoch 29/100\n",
            "24/24 [==============================] - ETA: 0s - loss: 0.0112\n",
            "Epoch 00029: loss did not improve from 0.00909\n",
            "24/24 [==============================] - 4s 159ms/step - loss: 0.0112\n",
            "Epoch 30/100\n",
            "24/24 [==============================] - ETA: 0s - loss: 0.0105\n",
            "Epoch 00030: loss did not improve from 0.00909\n",
            "24/24 [==============================] - 4s 157ms/step - loss: 0.0105\n",
            "Epoch 31/100\n",
            "24/24 [==============================] - ETA: 0s - loss: 0.0105\n",
            "Epoch 00031: loss did not improve from 0.00909\n",
            "24/24 [==============================] - 4s 158ms/step - loss: 0.0105\n",
            "Epoch 32/100\n",
            "24/24 [==============================] - ETA: 0s - loss: 0.0109\n",
            "Epoch 00032: loss did not improve from 0.00909\n",
            "24/24 [==============================] - 4s 158ms/step - loss: 0.0109\n",
            "Epoch 33/100\n",
            "24/24 [==============================] - ETA: 0s - loss: 0.0108\n",
            "Epoch 00033: loss did not improve from 0.00909\n",
            "24/24 [==============================] - 4s 157ms/step - loss: 0.0108\n",
            "Epoch 34/100\n",
            "24/24 [==============================] - ETA: 0s - loss: 0.0098\n",
            "Epoch 00034: loss did not improve from 0.00909\n",
            "24/24 [==============================] - 4s 157ms/step - loss: 0.0098\n",
            "Epoch 35/100\n",
            "24/24 [==============================] - ETA: 0s - loss: 0.0097\n",
            "Epoch 00035: loss did not improve from 0.00909\n",
            "24/24 [==============================] - 4s 158ms/step - loss: 0.0097\n",
            "Epoch 36/100\n",
            "24/24 [==============================] - ETA: 0s - loss: 0.0093\n",
            "Epoch 00036: loss did not improve from 0.00909\n",
            "24/24 [==============================] - 4s 161ms/step - loss: 0.0093\n",
            "Epoch 37/100\n",
            "24/24 [==============================] - ETA: 0s - loss: 0.0114\n",
            "Epoch 00037: loss did not improve from 0.00909\n",
            "24/24 [==============================] - 4s 159ms/step - loss: 0.0114\n",
            "Epoch 38/100\n",
            "24/24 [==============================] - ETA: 0s - loss: 0.0094\n",
            "Epoch 00038: loss did not improve from 0.00909\n",
            "24/24 [==============================] - 4s 161ms/step - loss: 0.0094\n",
            "Epoch 39/100\n",
            "24/24 [==============================] - ETA: 0s - loss: 0.0108\n",
            "Epoch 00039: loss did not improve from 0.00909\n",
            "24/24 [==============================] - 4s 159ms/step - loss: 0.0108\n",
            "Epoch 40/100\n",
            "24/24 [==============================] - ETA: 0s - loss: 0.0091\n",
            "Epoch 00040: loss did not improve from 0.00909\n",
            "24/24 [==============================] - 4s 158ms/step - loss: 0.0091\n",
            "Epoch 41/100\n",
            "24/24 [==============================] - ETA: 0s - loss: 0.0090\n",
            "Epoch 00041: loss improved from 0.00909 to 0.00902, saving model to best.h5\n",
            "24/24 [==============================] - 4s 161ms/step - loss: 0.0090\n",
            "Epoch 42/100\n",
            "24/24 [==============================] - ETA: 0s - loss: 0.0081\n",
            "Epoch 00042: loss improved from 0.00902 to 0.00808, saving model to best.h5\n",
            "24/24 [==============================] - 4s 161ms/step - loss: 0.0081\n",
            "Epoch 43/100\n",
            "24/24 [==============================] - ETA: 0s - loss: 0.0084\n",
            "Epoch 00043: loss did not improve from 0.00808\n",
            "24/24 [==============================] - 4s 160ms/step - loss: 0.0084\n",
            "Epoch 44/100\n",
            "24/24 [==============================] - ETA: 0s - loss: 0.0095\n",
            "Epoch 00044: loss did not improve from 0.00808\n",
            "24/24 [==============================] - 4s 161ms/step - loss: 0.0095\n",
            "Epoch 45/100\n",
            "24/24 [==============================] - ETA: 0s - loss: 0.0080\n",
            "Epoch 00045: loss improved from 0.00808 to 0.00796, saving model to best.h5\n",
            "24/24 [==============================] - 4s 163ms/step - loss: 0.0080\n",
            "Epoch 46/100\n",
            "24/24 [==============================] - ETA: 0s - loss: 0.0072\n",
            "Epoch 00046: loss improved from 0.00796 to 0.00722, saving model to best.h5\n",
            "24/24 [==============================] - 4s 162ms/step - loss: 0.0072\n",
            "Epoch 47/100\n",
            "24/24 [==============================] - ETA: 0s - loss: 0.0077\n",
            "Epoch 00047: loss did not improve from 0.00722\n",
            "24/24 [==============================] - 4s 159ms/step - loss: 0.0077\n",
            "Epoch 48/100\n",
            "24/24 [==============================] - ETA: 0s - loss: 0.0071\n",
            "Epoch 00048: loss improved from 0.00722 to 0.00714, saving model to best.h5\n",
            "24/24 [==============================] - 4s 162ms/step - loss: 0.0071\n",
            "Epoch 49/100\n",
            "24/24 [==============================] - ETA: 0s - loss: 0.0067\n",
            "Epoch 00049: loss improved from 0.00714 to 0.00666, saving model to best.h5\n",
            "24/24 [==============================] - 4s 162ms/step - loss: 0.0067\n",
            "Epoch 50/100\n",
            "24/24 [==============================] - ETA: 0s - loss: 0.0142\n",
            "Epoch 00050: loss did not improve from 0.00666\n",
            "24/24 [==============================] - 4s 159ms/step - loss: 0.0142\n",
            "Epoch 51/100\n",
            "24/24 [==============================] - ETA: 0s - loss: 0.0078\n",
            "Epoch 00051: loss did not improve from 0.00666\n",
            "24/24 [==============================] - 4s 160ms/step - loss: 0.0078\n",
            "Epoch 52/100\n",
            "24/24 [==============================] - ETA: 0s - loss: 0.0075\n",
            "Epoch 00052: loss did not improve from 0.00666\n",
            "24/24 [==============================] - 4s 159ms/step - loss: 0.0075\n",
            "Epoch 53/100\n",
            "24/24 [==============================] - ETA: 0s - loss: 0.0100\n",
            "Epoch 00053: loss did not improve from 0.00666\n",
            "24/24 [==============================] - 4s 159ms/step - loss: 0.0100\n",
            "Epoch 54/100\n",
            "24/24 [==============================] - ETA: 0s - loss: 0.0077\n",
            "Epoch 00054: loss did not improve from 0.00666\n",
            "24/24 [==============================] - 4s 160ms/step - loss: 0.0077\n",
            "Epoch 55/100\n",
            "24/24 [==============================] - ETA: 0s - loss: 0.0077\n",
            "Epoch 00055: loss did not improve from 0.00666\n",
            "24/24 [==============================] - 4s 158ms/step - loss: 0.0077\n",
            "Epoch 56/100\n",
            "24/24 [==============================] - ETA: 0s - loss: 0.0070\n",
            "Epoch 00056: loss did not improve from 0.00666\n",
            "24/24 [==============================] - 4s 157ms/step - loss: 0.0070\n",
            "Epoch 57/100\n",
            "24/24 [==============================] - ETA: 0s - loss: 0.0078\n",
            "Epoch 00057: loss did not improve from 0.00666\n",
            "24/24 [==============================] - 4s 157ms/step - loss: 0.0078\n",
            "Epoch 58/100\n",
            "24/24 [==============================] - ETA: 0s - loss: 0.0070\n",
            "Epoch 00058: loss did not improve from 0.00666\n",
            "24/24 [==============================] - 4s 158ms/step - loss: 0.0070\n",
            "Epoch 59/100\n",
            "24/24 [==============================] - ETA: 0s - loss: 0.0076\n",
            "Epoch 00059: loss did not improve from 0.00666\n",
            "24/24 [==============================] - 4s 158ms/step - loss: 0.0076\n",
            "Epoch 60/100\n",
            "24/24 [==============================] - ETA: 0s - loss: 0.0071\n",
            "Epoch 00060: loss did not improve from 0.00666\n",
            "24/24 [==============================] - 4s 158ms/step - loss: 0.0071\n",
            "Epoch 61/100\n",
            "24/24 [==============================] - ETA: 0s - loss: 0.0063\n",
            "Epoch 00061: loss improved from 0.00666 to 0.00634, saving model to best.h5\n",
            "24/24 [==============================] - 4s 159ms/step - loss: 0.0063\n",
            "Epoch 62/100\n",
            "24/24 [==============================] - ETA: 0s - loss: 0.0072\n",
            "Epoch 00062: loss did not improve from 0.00634\n",
            "24/24 [==============================] - 4s 159ms/step - loss: 0.0072\n",
            "Epoch 63/100\n",
            "24/24 [==============================] - ETA: 0s - loss: 0.0059\n",
            "Epoch 00063: loss improved from 0.00634 to 0.00587, saving model to best.h5\n",
            "24/24 [==============================] - 4s 160ms/step - loss: 0.0059\n",
            "Epoch 64/100\n",
            "24/24 [==============================] - ETA: 0s - loss: 0.0058\n",
            "Epoch 00064: loss improved from 0.00587 to 0.00583, saving model to best.h5\n",
            "24/24 [==============================] - 4s 160ms/step - loss: 0.0058\n",
            "Epoch 65/100\n",
            "24/24 [==============================] - ETA: 0s - loss: 0.0067\n",
            "Epoch 00065: loss did not improve from 0.00583\n",
            "24/24 [==============================] - 4s 157ms/step - loss: 0.0067\n",
            "Epoch 66/100\n",
            "24/24 [==============================] - ETA: 0s - loss: 0.0066\n",
            "Epoch 00066: loss did not improve from 0.00583\n",
            "24/24 [==============================] - 4s 158ms/step - loss: 0.0066\n",
            "Epoch 67/100\n",
            "24/24 [==============================] - ETA: 0s - loss: 0.0065\n",
            "Epoch 00067: loss did not improve from 0.00583\n",
            "24/24 [==============================] - 4s 157ms/step - loss: 0.0065\n",
            "Epoch 68/100\n",
            "24/24 [==============================] - ETA: 0s - loss: 0.0066\n",
            "Epoch 00068: loss did not improve from 0.00583\n",
            "24/24 [==============================] - 4s 158ms/step - loss: 0.0066\n",
            "Epoch 69/100\n",
            "24/24 [==============================] - ETA: 0s - loss: 0.0067\n",
            "Epoch 00069: loss did not improve from 0.00583\n",
            "24/24 [==============================] - 4s 156ms/step - loss: 0.0067\n",
            "Epoch 70/100\n",
            "24/24 [==============================] - ETA: 0s - loss: 0.0060\n",
            "Epoch 00070: loss did not improve from 0.00583\n",
            "24/24 [==============================] - 4s 157ms/step - loss: 0.0060\n",
            "Epoch 71/100\n",
            "24/24 [==============================] - ETA: 0s - loss: 0.0057\n",
            "Epoch 00071: loss improved from 0.00583 to 0.00571, saving model to best.h5\n",
            "24/24 [==============================] - 4s 160ms/step - loss: 0.0057\n",
            "Epoch 72/100\n",
            "24/24 [==============================] - ETA: 0s - loss: 0.0051\n",
            "Epoch 00072: loss improved from 0.00571 to 0.00509, saving model to best.h5\n",
            "24/24 [==============================] - 4s 157ms/step - loss: 0.0051\n",
            "Epoch 73/100\n",
            "24/24 [==============================] - ETA: 0s - loss: 0.0058\n",
            "Epoch 00073: loss did not improve from 0.00509\n",
            "24/24 [==============================] - 4s 157ms/step - loss: 0.0058\n",
            "Epoch 74/100\n",
            "24/24 [==============================] - ETA: 0s - loss: 0.0059\n",
            "Epoch 00074: loss did not improve from 0.00509\n",
            "24/24 [==============================] - 4s 158ms/step - loss: 0.0059\n",
            "Epoch 75/100\n",
            "24/24 [==============================] - ETA: 0s - loss: 0.0066\n",
            "Epoch 00075: loss did not improve from 0.00509\n",
            "24/24 [==============================] - 4s 161ms/step - loss: 0.0066\n",
            "Epoch 76/100\n",
            "24/24 [==============================] - ETA: 0s - loss: 0.0079\n",
            "Epoch 00076: loss did not improve from 0.00509\n",
            "24/24 [==============================] - 4s 159ms/step - loss: 0.0079\n",
            "Epoch 77/100\n",
            "24/24 [==============================] - ETA: 0s - loss: 0.0084\n",
            "Epoch 00077: loss did not improve from 0.00509\n",
            "24/24 [==============================] - 4s 158ms/step - loss: 0.0084\n",
            "Epoch 78/100\n",
            "24/24 [==============================] - ETA: 0s - loss: 0.0054\n",
            "Epoch 00078: loss did not improve from 0.00509\n",
            "24/24 [==============================] - 4s 158ms/step - loss: 0.0054\n",
            "Epoch 79/100\n",
            "24/24 [==============================] - ETA: 0s - loss: 0.0062\n",
            "Epoch 00079: loss did not improve from 0.00509\n",
            "24/24 [==============================] - 4s 158ms/step - loss: 0.0062\n",
            "Epoch 80/100\n",
            "24/24 [==============================] - ETA: 0s - loss: 0.0054\n",
            "Epoch 00080: loss did not improve from 0.00509\n",
            "24/24 [==============================] - 4s 158ms/step - loss: 0.0054\n",
            "Epoch 81/100\n",
            "24/24 [==============================] - ETA: 0s - loss: 0.0053\n",
            "Epoch 00081: loss did not improve from 0.00509\n",
            "24/24 [==============================] - 4s 158ms/step - loss: 0.0053\n",
            "Epoch 82/100\n",
            "24/24 [==============================] - ETA: 0s - loss: 0.0053\n",
            "Epoch 00082: loss did not improve from 0.00509\n",
            "24/24 [==============================] - 4s 159ms/step - loss: 0.0053\n",
            "Epoch 83/100\n",
            "24/24 [==============================] - ETA: 0s - loss: 0.0057\n",
            "Epoch 00083: loss did not improve from 0.00509\n",
            "24/24 [==============================] - 4s 162ms/step - loss: 0.0057\n",
            "Epoch 84/100\n",
            "24/24 [==============================] - ETA: 0s - loss: 0.0049\n",
            "Epoch 00084: loss improved from 0.00509 to 0.00492, saving model to best.h5\n",
            "24/24 [==============================] - 4s 161ms/step - loss: 0.0049\n",
            "Epoch 85/100\n",
            "24/24 [==============================] - ETA: 0s - loss: 0.0055\n",
            "Epoch 00085: loss did not improve from 0.00492\n",
            "24/24 [==============================] - 4s 160ms/step - loss: 0.0055\n",
            "Epoch 86/100\n",
            "24/24 [==============================] - ETA: 0s - loss: 0.0054\n",
            "Epoch 00086: loss did not improve from 0.00492\n",
            "24/24 [==============================] - 4s 159ms/step - loss: 0.0054\n",
            "Epoch 87/100\n",
            "24/24 [==============================] - ETA: 0s - loss: 0.0053\n",
            "Epoch 00087: loss did not improve from 0.00492\n",
            "24/24 [==============================] - 4s 159ms/step - loss: 0.0053\n",
            "Epoch 88/100\n",
            "24/24 [==============================] - ETA: 0s - loss: 0.0053\n",
            "Epoch 00088: loss did not improve from 0.00492\n",
            "24/24 [==============================] - 4s 159ms/step - loss: 0.0053\n",
            "Epoch 89/100\n",
            "24/24 [==============================] - ETA: 0s - loss: 0.0055\n",
            "Epoch 00089: loss did not improve from 0.00492\n",
            "24/24 [==============================] - 4s 160ms/step - loss: 0.0055\n",
            "Epoch 90/100\n",
            "24/24 [==============================] - ETA: 0s - loss: 0.0051\n",
            "Epoch 00090: loss did not improve from 0.00492\n",
            "24/24 [==============================] - 4s 159ms/step - loss: 0.0051\n",
            "Epoch 91/100\n",
            "24/24 [==============================] - ETA: 0s - loss: 0.0054\n",
            "Epoch 00091: loss did not improve from 0.00492\n",
            "24/24 [==============================] - 4s 157ms/step - loss: 0.0054\n",
            "Epoch 92/100\n",
            "24/24 [==============================] - ETA: 0s - loss: 0.0051\n",
            "Epoch 00092: loss did not improve from 0.00492\n",
            "24/24 [==============================] - 4s 159ms/step - loss: 0.0051\n",
            "Epoch 93/100\n",
            "24/24 [==============================] - ETA: 0s - loss: 0.0062\n",
            "Epoch 00093: loss did not improve from 0.00492\n",
            "24/24 [==============================] - 4s 157ms/step - loss: 0.0062\n",
            "Epoch 94/100\n",
            "24/24 [==============================] - ETA: 0s - loss: 0.0052\n",
            "Epoch 00094: loss did not improve from 0.00492\n",
            "24/24 [==============================] - 4s 159ms/step - loss: 0.0052\n",
            "Epoch 95/100\n",
            "24/24 [==============================] - ETA: 0s - loss: 0.0049\n",
            "Epoch 00095: loss improved from 0.00492 to 0.00489, saving model to best.h5\n",
            "24/24 [==============================] - 4s 160ms/step - loss: 0.0049\n",
            "Epoch 96/100\n",
            "24/24 [==============================] - ETA: 0s - loss: 0.0050\n",
            "Epoch 00096: loss did not improve from 0.00489\n",
            "24/24 [==============================] - 4s 159ms/step - loss: 0.0050\n",
            "Epoch 97/100\n",
            "24/24 [==============================] - ETA: 0s - loss: 0.0051\n",
            "Epoch 00097: loss did not improve from 0.00489\n",
            "24/24 [==============================] - 4s 159ms/step - loss: 0.0051\n",
            "Epoch 98/100\n",
            "24/24 [==============================] - ETA: 0s - loss: 0.0048\n",
            "Epoch 00098: loss improved from 0.00489 to 0.00476, saving model to best.h5\n",
            "24/24 [==============================] - 4s 160ms/step - loss: 0.0048\n",
            "Epoch 99/100\n",
            "24/24 [==============================] - ETA: 0s - loss: 0.0045\n",
            "Epoch 00099: loss improved from 0.00476 to 0.00447, saving model to best.h5\n",
            "24/24 [==============================] - 4s 159ms/step - loss: 0.0045\n",
            "Epoch 100/100\n",
            "24/24 [==============================] - ETA: 0s - loss: 0.0045\n",
            "Epoch 00100: loss did not improve from 0.00447\n",
            "24/24 [==============================] - 4s 157ms/step - loss: 0.0045\n"
          ],
          "name": "stdout"
        }
      ]
    },
    {
      "cell_type": "markdown",
      "metadata": {
        "id": "iW7UW9eMO8qb"
      },
      "source": [
        "## Loss function vs Epochs"
      ]
    },
    {
      "cell_type": "code",
      "metadata": {
        "id": "s3H5HdDhO8qb",
        "colab": {
          "base_uri": "https://localhost:8080/",
          "height": 295
        },
        "outputId": "592faa20-da36-4b4f-9fea-ebd52f146973"
      },
      "source": [
        "plt.plot(History.history['loss'],color=\"r\",label=\"Training Accuracy\")\n",
        "plt.ylabel(\"Loss\")\n",
        "plt.xlabel(\"Epochs\")\n",
        "plt.title(\"Loss Function\")\n",
        "plt.show()"
      ],
      "execution_count": 20,
      "outputs": [
        {
          "output_type": "display_data",
          "data": {
            "image/png": "[encoded data removed]",
            "text/plain": [
              "<Figure size 432x288 with 1 Axes>"
            ]
          },
          "metadata": {
            "tags": [],
            "needs_background": "light"
          }
        }
      ]
    },
    {
      "cell_type": "markdown",
      "metadata": {
        "id": "GOsyIgVUO8qb"
      },
      "source": [
        "## Restoring the best weights"
      ]
    },
    {
      "cell_type": "code",
      "metadata": {
        "id": "NLQ-ZAnNO8qc"
      },
      "source": [
        "model = load_model('best.h5')"
      ],
      "execution_count": 21,
      "outputs": []
    },
    {
      "cell_type": "code",
      "metadata": {
        "id": "qsVvDYuhO8qc"
      },
      "source": [
        "last_window=train.tail(window)\n",
        "testSet=last_window.append(test,ignore_index=True)\n",
        "nTest=scaler.transform(testSet)"
      ],
      "execution_count": 22,
      "outputs": []
    },
    {
      "cell_type": "code",
      "metadata": {
        "id": "hW-a0xceO8qc",
        "colab": {
          "base_uri": "https://localhost:8080/"
        },
        "outputId": "bac811d9-b792-4d4b-e37d-5923b6d884b6"
      },
      "source": [
        "xTest=[]\n",
        "yTest=[]\n",
        "\n",
        "for i in range(window,nTest.shape[0]):\n",
        "    xTest.append(nTest[i-window:i])\n",
        "    yTest.append(nTest[i,0])\n",
        "\n",
        "xTest,yTest=np.array(xTest),np.array(yTest)\n",
        "xTest.shape,yTest.shape"
      ],
      "execution_count": 23,
      "outputs": [
        {
          "output_type": "execute_result",
          "data": {
            "text/plain": [
              "((438, 60, 5), (438,))"
            ]
          },
          "metadata": {
            "tags": []
          },
          "execution_count": 23
        }
      ]
    },
    {
      "cell_type": "code",
      "metadata": {
        "id": "Ez0W9bkIO8qd"
      },
      "source": [
        "yPred=model.predict(xTest)"
      ],
      "execution_count": 24,
      "outputs": []
    },
    {
      "cell_type": "code",
      "metadata": {
        "id": "LnWReydOO8qd",
        "colab": {
          "base_uri": "https://localhost:8080/"
        },
        "outputId": "53875939-96e8-4301-d036-aaaef8e7bd78"
      },
      "source": [
        "yPred"
      ],
      "execution_count": 25,
      "outputs": [
        {
          "output_type": "execute_result",
          "data": {
            "text/plain": [
              "array([[0.7325495 ],\n",
              "       [0.8614714 ],\n",
              "       [0.96410245],\n",
              "       [0.98887223],\n",
              "       [1.0016373 ],\n",
              "       [1.0039434 ],\n",
              "       [1.0027158 ],\n",
              "       [0.9994167 ],\n",
              "       [0.99724936],\n",
              "       [0.99550414],\n",
              "       [0.9937282 ],\n",
              "       [0.9923746 ],\n",
              "       [0.9916575 ],\n",
              "       [0.99118626],\n",
              "       [0.99061584],\n",
              "       [0.9895024 ],\n",
              "       [0.9873884 ],\n",
              "       [0.98609716],\n",
              "       [0.98609847],\n",
              "       [0.9862997 ],\n",
              "       [0.9861046 ],\n",
              "       [0.985336  ],\n",
              "       [0.987267  ],\n",
              "       [0.989073  ],\n",
              "       [0.98987824],\n",
              "       [0.9902188 ],\n",
              "       [0.99035126],\n",
              "       [0.99052984],\n",
              "       [0.9905128 ],\n",
              "       [0.9903603 ],\n",
              "       [0.99067694],\n",
              "       [0.991288  ],\n",
              "       [0.99170476],\n",
              "       [0.9916726 ],\n",
              "       [0.99133855],\n",
              "       [0.9910101 ],\n",
              "       [0.9905399 ],\n",
              "       [0.9903922 ],\n",
              "       [0.99052924],\n",
              "       [0.9905829 ],\n",
              "       [0.99075633],\n",
              "       [0.9906448 ],\n",
              "       [0.99045783],\n",
              "       [0.99004644],\n",
              "       [0.99052745],\n",
              "       [0.9913465 ],\n",
              "       [0.99166167],\n",
              "       [0.9916008 ],\n",
              "       [0.9912283 ],\n",
              "       [0.991553  ],\n",
              "       [0.9917672 ],\n",
              "       [0.99151105],\n",
              "       [0.9909642 ],\n",
              "       [0.9907034 ],\n",
              "       [0.9912215 ],\n",
              "       [0.99160856],\n",
              "       [0.99224055],\n",
              "       [0.99304026],\n",
              "       [0.9936716 ],\n",
              "       [0.99410397],\n",
              "       [0.9943635 ],\n",
              "       [0.99433786],\n",
              "       [0.9943176 ],\n",
              "       [0.9944224 ],\n",
              "       [0.99449533],\n",
              "       [0.9943279 ],\n",
              "       [0.9942909 ],\n",
              "       [0.99410325],\n",
              "       [0.99395615],\n",
              "       [0.9938865 ],\n",
              "       [0.99384195],\n",
              "       [0.9937085 ],\n",
              "       [0.9935649 ],\n",
              "       [0.9934377 ],\n",
              "       [0.9934778 ],\n",
              "       [0.9937398 ],\n",
              "       [0.99394834],\n",
              "       [0.9941603 ],\n",
              "       [0.9941608 ],\n",
              "       [0.9941092 ],\n",
              "       [0.9939316 ],\n",
              "       [0.9938664 ],\n",
              "       [0.99383277],\n",
              "       [0.99382335],\n",
              "       [0.99371153],\n",
              "       [0.99351984],\n",
              "       [0.9935653 ],\n",
              "       [0.99369514],\n",
              "       [0.99378747],\n",
              "       [0.9935964 ],\n",
              "       [0.9935322 ],\n",
              "       [0.99338245],\n",
              "       [0.9932441 ],\n",
              "       [0.99301225],\n",
              "       [0.99271446],\n",
              "       [0.99249035],\n",
              "       [0.99224323],\n",
              "       [0.99219304],\n",
              "       [0.9919711 ],\n",
              "       [0.99164313],\n",
              "       [0.99200505],\n",
              "       [0.99289894],\n",
              "       [0.99401456],\n",
              "       [0.99452037],\n",
              "       [0.99484944],\n",
              "       [0.9950431 ],\n",
              "       [0.9949998 ],\n",
              "       [0.9949104 ],\n",
              "       [0.99484533],\n",
              "       [0.99488777],\n",
              "       [0.99483824],\n",
              "       [0.99480635],\n",
              "       [0.9947339 ],\n",
              "       [0.99463373],\n",
              "       [0.99458295],\n",
              "       [0.99455655],\n",
              "       [0.9945348 ],\n",
              "       [0.9945249 ],\n",
              "       [0.9944492 ],\n",
              "       [0.9944149 ],\n",
              "       [0.99431574],\n",
              "       [0.9942294 ],\n",
              "       [0.99416727],\n",
              "       [0.9941453 ],\n",
              "       [0.99420196],\n",
              "       [0.9941743 ],\n",
              "       [0.99416995],\n",
              "       [0.9941451 ],\n",
              "       [0.99416906],\n",
              "       [0.99419254],\n",
              "       [0.993961  ],\n",
              "       [0.993808  ],\n",
              "       [0.9937064 ],\n",
              "       [0.9935457 ],\n",
              "       [0.99329585],\n",
              "       [0.99340624],\n",
              "       [0.9934937 ],\n",
              "       [0.9934408 ],\n",
              "       [0.9936915 ],\n",
              "       [0.99406046],\n",
              "       [0.9942717 ],\n",
              "       [0.9943486 ],\n",
              "       [0.99437785],\n",
              "       [0.9942797 ],\n",
              "       [0.99426323],\n",
              "       [0.99415   ],\n",
              "       [0.99409616],\n",
              "       [0.994189  ],\n",
              "       [0.99419993],\n",
              "       [0.99424   ],\n",
              "       [0.9941968 ],\n",
              "       [0.994198  ],\n",
              "       [0.9941608 ],\n",
              "       [0.9939793 ],\n",
              "       [0.9938727 ],\n",
              "       [0.99381727],\n",
              "       [0.9938466 ],\n",
              "       [0.994014  ],\n",
              "       [0.994225  ],\n",
              "       [0.9943618 ],\n",
              "       [0.9945144 ],\n",
              "       [0.99452084],\n",
              "       [0.99438554],\n",
              "       [0.9944131 ],\n",
              "       [0.9942711 ],\n",
              "       [0.99398386],\n",
              "       [0.9939435 ],\n",
              "       [0.99414223],\n",
              "       [0.9944429 ],\n",
              "       [0.9947372 ],\n",
              "       [0.99493724],\n",
              "       [0.99506277],\n",
              "       [0.99509436],\n",
              "       [0.99513286],\n",
              "       [0.995117  ],\n",
              "       [0.9951262 ],\n",
              "       [0.99506444],\n",
              "       [0.9951217 ],\n",
              "       [0.9951262 ],\n",
              "       [0.9952201 ],\n",
              "       [0.9952865 ],\n",
              "       [0.99520725],\n",
              "       [0.9952548 ],\n",
              "       [0.9952175 ],\n",
              "       [0.9952098 ],\n",
              "       [0.9951666 ],\n",
              "       [0.99511135],\n",
              "       [0.9950531 ],\n",
              "       [0.99504465],\n",
              "       [0.99502283],\n",
              "       [0.99505895],\n",
              "       [0.99498373],\n",
              "       [0.9949739 ],\n",
              "       [0.9949437 ],\n",
              "       [0.9949086 ],\n",
              "       [0.9948724 ],\n",
              "       [0.9948581 ],\n",
              "       [0.9948216 ],\n",
              "       [0.99472404],\n",
              "       [0.99457747],\n",
              "       [0.99458754],\n",
              "       [0.99449354],\n",
              "       [0.99454683],\n",
              "       [0.99466616],\n",
              "       [0.99465984],\n",
              "       [0.9946596 ],\n",
              "       [0.99447256],\n",
              "       [0.9943991 ],\n",
              "       [0.99435025],\n",
              "       [0.9943708 ],\n",
              "       [0.99446994],\n",
              "       [0.99443364],\n",
              "       [0.9945485 ],\n",
              "       [0.9944363 ],\n",
              "       [0.9944323 ],\n",
              "       [0.99430734],\n",
              "       [0.99419475],\n",
              "       [0.994096  ],\n",
              "       [0.9940348 ],\n",
              "       [0.9938172 ],\n",
              "       [0.99355227],\n",
              "       [0.9932004 ],\n",
              "       [0.9922915 ],\n",
              "       [0.9914809 ],\n",
              "       [0.99115425],\n",
              "       [0.9907158 ],\n",
              "       [0.9897781 ],\n",
              "       [0.9889152 ],\n",
              "       [0.9883454 ],\n",
              "       [0.98785824],\n",
              "       [0.9877209 ],\n",
              "       [0.9869728 ],\n",
              "       [0.9869415 ],\n",
              "       [0.9867396 ],\n",
              "       [0.985488  ],\n",
              "       [0.98295355],\n",
              "       [0.9788342 ],\n",
              "       [0.9759063 ],\n",
              "       [0.9742361 ],\n",
              "       [0.97326976],\n",
              "       [0.97360086],\n",
              "       [0.9741959 ],\n",
              "       [0.97656196],\n",
              "       [0.9783541 ],\n",
              "       [0.978985  ],\n",
              "       [0.9793293 ],\n",
              "       [0.9791439 ],\n",
              "       [0.9797842 ],\n",
              "       [0.97996336],\n",
              "       [0.97971743],\n",
              "       [0.9787512 ],\n",
              "       [0.9774094 ],\n",
              "       [0.97704285],\n",
              "       [0.9761897 ],\n",
              "       [0.97264093],\n",
              "       [0.9712934 ],\n",
              "       [0.9692176 ],\n",
              "       [0.96716183],\n",
              "       [0.97254807],\n",
              "       [0.979753  ],\n",
              "       [0.98360837],\n",
              "       [0.9836107 ],\n",
              "       [0.98353875],\n",
              "       [0.9829239 ],\n",
              "       [0.9813755 ],\n",
              "       [0.98094225],\n",
              "       [0.9812237 ],\n",
              "       [0.9802393 ],\n",
              "       [0.9772592 ],\n",
              "       [0.97516185],\n",
              "       [0.96672463],\n",
              "       [0.9594112 ],\n",
              "       [0.9567798 ],\n",
              "       [0.95952934],\n",
              "       [0.9624074 ],\n",
              "       [0.9596223 ],\n",
              "       [0.9532218 ],\n",
              "       [0.9525592 ],\n",
              "       [0.9584148 ],\n",
              "       [0.95794326],\n",
              "       [0.9556036 ],\n",
              "       [0.9540091 ],\n",
              "       [0.9506713 ],\n",
              "       [0.9500714 ],\n",
              "       [0.91884893],\n",
              "       [0.8754077 ],\n",
              "       [0.8302143 ],\n",
              "       [0.7851314 ],\n",
              "       [0.7776306 ],\n",
              "       [0.8285208 ],\n",
              "       [0.8619728 ],\n",
              "       [0.8372734 ],\n",
              "       [0.80228347],\n",
              "       [0.79596853],\n",
              "       [0.8217824 ],\n",
              "       [0.8495242 ],\n",
              "       [0.8531082 ],\n",
              "       [0.8471653 ],\n",
              "       [0.8576106 ],\n",
              "       [0.8738411 ],\n",
              "       [0.8824327 ],\n",
              "       [0.8796854 ],\n",
              "       [0.88104737],\n",
              "       [0.89026386],\n",
              "       [0.8982015 ],\n",
              "       [0.89885575],\n",
              "       [0.89593536],\n",
              "       [0.89095825],\n",
              "       [0.8732685 ],\n",
              "       [0.84432775],\n",
              "       [0.8158792 ],\n",
              "       [0.77590865],\n",
              "       [0.73441595],\n",
              "       [0.7143375 ],\n",
              "       [0.70779794],\n",
              "       [0.6890598 ],\n",
              "       [0.66302335],\n",
              "       [0.6554024 ],\n",
              "       [0.65472955],\n",
              "       [0.6544896 ],\n",
              "       [0.6665361 ],\n",
              "       [0.68916065],\n",
              "       [0.7099605 ],\n",
              "       [0.7315107 ],\n",
              "       [0.7540761 ],\n",
              "       [0.7747606 ],\n",
              "       [0.78234893],\n",
              "       [0.7630921 ],\n",
              "       [0.7260512 ],\n",
              "       [0.70000845],\n",
              "       [0.70057195],\n",
              "       [0.71747357],\n",
              "       [0.7249622 ],\n",
              "       [0.71619165],\n",
              "       [0.7027003 ],\n",
              "       [0.698625  ],\n",
              "       [0.69679743],\n",
              "       [0.67924404],\n",
              "       [0.64407736],\n",
              "       [0.6150107 ],\n",
              "       [0.60627276],\n",
              "       [0.59760785],\n",
              "       [0.5815309 ],\n",
              "       [0.579174  ],\n",
              "       [0.6090441 ],\n",
              "       [0.6507724 ],\n",
              "       [0.67070943],\n",
              "       [0.6805531 ],\n",
              "       [0.6932387 ],\n",
              "       [0.70152724],\n",
              "       [0.7027754 ],\n",
              "       [0.7075743 ],\n",
              "       [0.71831506],\n",
              "       [0.72288585],\n",
              "       [0.70964277],\n",
              "       [0.69346887],\n",
              "       [0.69326955],\n",
              "       [0.7144725 ],\n",
              "       [0.7238501 ],\n",
              "       [0.71219194],\n",
              "       [0.7026226 ],\n",
              "       [0.6948075 ],\n",
              "       [0.6916595 ],\n",
              "       [0.6934017 ],\n",
              "       [0.6840387 ],\n",
              "       [0.6681671 ],\n",
              "       [0.66154623],\n",
              "       [0.65741056],\n",
              "       [0.6510128 ],\n",
              "       [0.65380496],\n",
              "       [0.66839796],\n",
              "       [0.67754686],\n",
              "       [0.67157185],\n",
              "       [0.66286975],\n",
              "       [0.6667104 ],\n",
              "       [0.68022114],\n",
              "       [0.6885974 ],\n",
              "       [0.6804797 ],\n",
              "       [0.665356  ],\n",
              "       [0.6591692 ],\n",
              "       [0.6591497 ],\n",
              "       [0.65233564],\n",
              "       [0.6488563 ],\n",
              "       [0.639211  ],\n",
              "       [0.61630183],\n",
              "       [0.60027635],\n",
              "       [0.5948049 ],\n",
              "       [0.59286195],\n",
              "       [0.5812094 ],\n",
              "       [0.55782974],\n",
              "       [0.5364023 ],\n",
              "       [0.5254283 ],\n",
              "       [0.52767515],\n",
              "       [0.54238725],\n",
              "       [0.5528715 ],\n",
              "       [0.5523973 ],\n",
              "       [0.54596233],\n",
              "       [0.5402986 ],\n",
              "       [0.53298223],\n",
              "       [0.5201844 ],\n",
              "       [0.51236725],\n",
              "       [0.50968176],\n",
              "       [0.5165138 ],\n",
              "       [0.5294411 ],\n",
              "       [0.5279575 ],\n",
              "       [0.509823  ],\n",
              "       [0.49645334],\n",
              "       [0.4986782 ],\n",
              "       [0.5201219 ],\n",
              "       [0.5501998 ],\n",
              "       [0.56789476],\n",
              "       [0.57207114],\n",
              "       [0.56637865],\n",
              "       [0.553197  ],\n",
              "       [0.5423267 ],\n",
              "       [0.52829736],\n",
              "       [0.496136  ],\n",
              "       [0.45302117],\n",
              "       [0.420921  ],\n",
              "       [0.4053416 ],\n",
              "       [0.39749986],\n",
              "       [0.38576216],\n",
              "       [0.36529833],\n",
              "       [0.3489343 ],\n",
              "       [0.35612032],\n",
              "       [0.38647348],\n",
              "       [0.40862894],\n",
              "       [0.40382445],\n",
              "       [0.38013887],\n",
              "       [0.35153636],\n",
              "       [0.32923567],\n",
              "       [0.31793994],\n",
              "       [0.30855554],\n",
              "       [0.30119765],\n",
              "       [0.30046207],\n",
              "       [0.30056232],\n",
              "       [0.29521653],\n",
              "       [0.28486615]], dtype=float32)"
            ]
          },
          "metadata": {
            "tags": []
          },
          "execution_count": 25
        }
      ]
    },
    {
      "cell_type": "code",
      "metadata": {
        "id": "_OP79J92O8qd",
        "colab": {
          "base_uri": "https://localhost:8080/"
        },
        "outputId": "1926df1e-5efe-4014-ba32-90e1b7a67b25"
      },
      "source": [
        "scaler.scale_,scaler.data_min_"
      ],
      "execution_count": 26,
      "outputs": [
        {
          "output_type": "execute_result",
          "data": {
            "text/plain": [
              "(array([1.36518771e-02, 1.37835975e-02, 1.36798906e-02, 1.38504155e-02,\n",
              "        5.89477253e-08]),\n",
              " array([1.0300e+02, 1.0460e+02, 1.0000e+02, 1.0265e+02, 1.0018e+05]))"
            ]
          },
          "metadata": {
            "tags": []
          },
          "execution_count": 26
        }
      ]
    },
    {
      "cell_type": "code",
      "metadata": {
        "id": "2UeFcEIhO8qd"
      },
      "source": [
        "scaleVal=1/2.97428729e-04"
      ],
      "execution_count": 27,
      "outputs": []
    },
    {
      "cell_type": "markdown",
      "metadata": {
        "id": "OOZte13WO8qd"
      },
      "source": [
        "## Inverse Scaling and Normalisation"
      ]
    },
    {
      "cell_type": "code",
      "metadata": {
        "id": "q-AE03l3O8qe"
      },
      "source": [
        "yPred=(yPred*scaleVal)+testSet['Open'].min()\n",
        "yTest=(yTest*scaleVal)+testSet['Open'].min()"
      ],
      "execution_count": 28,
      "outputs": []
    },
    {
      "cell_type": "code",
      "metadata": {
        "id": "Z7Ol4F1TO8qe"
      },
      "source": [
        "yPred = (yPred*yTest.sum())/(yPred.sum())"
      ],
      "execution_count": 29,
      "outputs": []
    },
    {
      "cell_type": "markdown",
      "metadata": {
        "id": "q2APwOQ9O8qe"
      },
      "source": [
        "## Plotting predicted values"
      ]
    },
    {
      "cell_type": "code",
      "metadata": {
        "id": "hWlUIuFVO8qe",
        "colab": {
          "base_uri": "https://localhost:8080/",
          "height": 350
        },
        "outputId": "11445515-d8e9-43e8-b76d-2898511c2dc6"
      },
      "source": [
        "plt.figure(figsize=(14,5))\n",
        "plt.plot(yTest,color='red',label='Original')\n",
        "plt.plot(yPred,color='blue',label='Predicted')\n",
        "\n",
        "plt.title('Prediction')\n",
        "plt.xlabel('Days')\n",
        "plt.ylabel('Price')\n",
        "\n",
        "plt.legend()\n",
        "plt.show()\n"
      ],
      "execution_count": 30,
      "outputs": [
        {
          "output_type": "display_data",
          "data": {
            "image/png": "[encoded data removed]",
            "text/plain": [
              "<Figure size 1008x360 with 1 Axes>"
            ]
          },
          "metadata": {
            "tags": [],
            "needs_background": "light"
          }
        }
      ]
    },
    {
      "cell_type": "code",
      "metadata": {
        "colab": {
          "base_uri": "https://localhost:8080/"
        },
        "id": "8OtAfaB7ilgc",
        "outputId": "20463c58-6f90-4a6c-db60-504020fcdf6b"
      },
      "source": [
        "from sklearn.metrics import r2_score\r\n",
        "r2_score(yTest, yPred)"
      ],
      "execution_count": 31,
      "outputs": [
        {
          "output_type": "execute_result",
          "data": {
            "text/plain": [
              "0.5391136017659852"
            ]
          },
          "metadata": {
            "tags": []
          },
          "execution_count": 31
        }
      ]
    }
  ]
}